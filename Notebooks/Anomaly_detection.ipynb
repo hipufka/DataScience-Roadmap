{
 "cells": [
  {
   "cell_type": "code",
   "execution_count": null,
   "id": "9de65a80-eb1d-4f5c-a5b1-0642777e6c53",
   "metadata": {
    "frozen": false
   },
   "outputs": [],
   "source": [
    "import configparser\n",
    "\n",
    "import pandas as pd\n",
    "import numpy as np\n",
    "from numpy import where\n",
    "\n",
    "from sklearn.ensemble import IsolationForest\n",
    "from sklearn.svm import OneClassSVM\n",
    "\n",
    "import vertica_python\n",
    "from vertica_python.errors import MissingRelation\n",
    "import verticapy as vp\n",
    "from verticapy import pandas_to_vertica, insert_into, drop\n",
    "\n",
    "import matplotlib.pyplot as plt"
   ]
  },
  {
   "cell_type": "markdown",
   "id": "d03b2c86-34ac-4575-8617-d4bc98abbbac",
   "metadata": {},
   "source": [
    "### Helper functions"
   ]
  },
  {
   "cell_type": "code",
   "execution_count": null,
   "id": "60b2d057-4cae-493b-a049-e80b6ff66f3b",
   "metadata": {
    "frozen": false
   },
   "outputs": [],
   "source": [
    "config_path = 'config.ini'\n",
    "\n",
    "def get_VRT_cursor(path=config_path):\n",
    "    config = configparser.ConfigParser()\n",
    "    config.read(path)\n",
    "    \n",
    "    credentials = {\n",
    "        'database': config['VERTICA']['database'],\n",
    "        'user': config['VERTICA']['user'],\n",
    "        'password': config['VERTICA']['password'],\n",
    "        'host': config['VERTICA']['host'],\n",
    "        'port': config['VERTICA']['port']\n",
    "    }\n",
    "    \n",
    "    conn = vertica_python.connect(**credentials)\n",
    "    cursor = conn.cursor()\n",
    "    return cursor, conn\n",
    "    \n",
    "def get_df_from_sql(cursor, sql='SELECT now(), version()'):\n",
    "    cursor.execute(sql)\n",
    "    columns = cursor.description\n",
    "    result = cursor.fetchall()\n",
    "    df = pd.DataFrame(result, columns=[tuple[0] for tuple in columns])\n",
    "    return df\n",
    "\n",
    "VRT_cursor, conn = get_VRT_cursor()\n",
    "vp.set_connection(conn)"
   ]
  },
  {
   "cell_type": "markdown",
   "id": "6ec63060-cf32-410f-8f41-4959ab5f9d1f",
   "metadata": {},
   "source": [
    "### Get data"
   ]
  },
  {
   "cell_type": "code",
   "execution_count": null,
   "id": "3372380a-46e5-4640-b434-7b7b9c3497f8",
   "metadata": {
    "frozen": false
   },
   "outputs": [],
   "source": [
    "sql = \"\"\"\n",
    "select date,\n",
    "    value\n",
    "from test_table\n",
    "order by date\n",
    "\"\"\""
   ]
  },
  {
   "cell_type": "code",
   "execution_count": null,
   "id": "72246c41-debb-43ed-9688-0788376ee64b",
   "metadata": {
    "frozen": false
   },
   "outputs": [],
   "source": [
    "df = get_df_from_sql(cursor=VRT_cursor, sql=sql)\n",
    "df"
   ]
  },
  {
   "cell_type": "markdown",
   "id": "624f1b9a-a2aa-455c-870a-22e596b56c69",
   "metadata": {},
   "source": [
    "### Isolation forest"
   ]
  },
  {
   "cell_type": "code",
   "execution_count": null,
   "id": "36315067-ba39-428d-837c-49e84b3cd641",
   "metadata": {
    "frozen": false
   },
   "outputs": [],
   "source": [
    "model = IsolationForest(random_state = 0, contamination = float(0.05))\n",
    "model.fit(df[['value']])"
   ]
  },
  {
   "cell_type": "code",
   "execution_count": null,
   "id": "ae3439d9-8153-4c38-a6f2-63f893c472b6",
   "metadata": {
    "frozen": false
   },
   "outputs": [],
   "source": [
    "df['score_isol_forest'] = model.decision_function(df[['value']])\n",
    "df['anomaly_value_isol_forest'] = model.predict(df[['value']])\n",
    "df.head()"
   ]
  },
  {
   "cell_type": "code",
   "execution_count": null,
   "id": "492c94a5-ac90-498c-b5e2-03421b2a6b74",
   "metadata": {
    "frozen": false
   },
   "outputs": [],
   "source": [
    "outliers = df.loc[df['anomaly_value_isol_forest'] == -1]\n",
    "outlier_index = list(outliers.index)\n",
    "outlier_date = outliers['date']\n",
    "\n",
    "#datapoints classified -1 are anomalous\n",
    "print(df['anomaly_value_isol_forest'].value_counts())\n",
    "df['anomaly_value_isol_forest'].value_counts().plot(kind = 'bar')"
   ]
  },
  {
   "cell_type": "code",
   "execution_count": null,
   "id": "7987ec7d-fcbc-4d8d-9855-5fa339e25779",
   "metadata": {
    "frozen": false
   },
   "outputs": [],
   "source": [
    "plt.figure(figsize = (16, 8))\n",
    "\n",
    "plt.plot(df['date'], df['value'], marker = '.')\n",
    "plt.plot(outlier_date, outliers['value'], 'o', color = 'red', label = 'outlier')\n",
    "plt.title('Anomaly detection By Isolation Forest')\n",
    "\n",
    "#plt.grid()\n",
    "plt.xlabel('Date')\n",
    "plt.ylabel('Neutral Current')\n",
    "plt.legend()"
   ]
  },
  {
   "cell_type": "markdown",
   "id": "98077082-4ba2-4c97-9cfc-b63dd4895ba0",
   "metadata": {
    "frozen": false
   },
   "source": [
    "### SVM"
   ]
  },
  {
   "cell_type": "code",
   "execution_count": null,
   "id": "b9bff560-80ef-4137-9277-cae7ef93866b",
   "metadata": {},
   "outputs": [],
   "source": [
    "svm = OneClassSVM(kernel='rbf', gamma=0.001, nu=0.03)\n",
    "print(svm)"
   ]
  },
  {
   "cell_type": "code",
   "execution_count": null,
   "id": "7c68b3ee-be6a-4611-aecb-b75415b3d5d2",
   "metadata": {},
   "outputs": [],
   "source": [
    "svm.fit(df[['value']])\n",
    "df['anomaly_value_svm'] = svm.predict(df[['value']])\n",
    "df.head()"
   ]
  },
  {
   "cell_type": "code",
   "execution_count": null,
   "id": "f159308b-b797-443c-87af-48996450b672",
   "metadata": {},
   "outputs": [],
   "source": [
    "outliers_svm = df.loc[df['anomaly_value_svm'] == -1]\n",
    "outliers_svm_date = outliers_svm['date']\n",
    "\n",
    "#datapoints classified -1 are anomalous\n",
    "print(df['anomaly_value_svm'].value_counts())\n",
    "df['anomaly_value_svm'].value_counts().plot(kind = 'bar')"
   ]
  },
  {
   "cell_type": "code",
   "execution_count": null,
   "id": "05c6973e-68d1-4542-a019-42ecb334b023",
   "metadata": {},
   "outputs": [],
   "source": [
    "plt.figure(figsize = (16, 8))\n",
    "\n",
    "plt.plot(df['date'], df['value'], marker = '.')\n",
    "plt.plot(outliers_svm_date, outliers_svm['value'], 'o', color = 'red', label = 'outlier')\n",
    "plt.title('Anomaly detection By SVM')\n",
    "\n",
    "#plt.grid()\n",
    "plt.xlabel('Date')\n",
    "plt.ylabel('Neutral Current')\n",
    "plt.legend()"
   ]
  },
  {
   "cell_type": "markdown",
   "id": "2f736767-df81-4a68-89e3-5ad17ef6e91a",
   "metadata": {},
   "source": [
    "### Percentile"
   ]
  },
  {
   "cell_type": "code",
   "execution_count": null,
   "id": "28c065a0-a29e-4dd7-9fc2-fb5ca9230301",
   "metadata": {},
   "outputs": [],
   "source": [
    "percentile_99 = np.percentile(df['value'], 99)\n",
    "percentile_1 = np.percentile(df['value'], 1)\n",
    "print(percentile_5, percentile_95)"
   ]
  },
  {
   "cell_type": "code",
   "execution_count": null,
   "id": "e4d84792-ccb6-4207-88c9-46cb03b07cd5",
   "metadata": {},
   "outputs": [],
   "source": [
    "df['anomaly_percentile'] = np.where(((df['value'] < percentile_1) | (df['value'] > percentile_99)), -1, 1)\n",
    "outliers_percentile = df.loc[df['anomaly_percentile'] == -1]\n",
    "outliers_percentile_date = outliers_percentile['date']\n",
    "\n",
    "#datapoints classified -1 are anomalous\n",
    "print(df['anomaly_percentile'].value_counts())\n",
    "df['anomaly_percentile'].value_counts().plot(kind = 'bar')"
   ]
  },
  {
   "cell_type": "code",
   "execution_count": null,
   "id": "4ca8c9e6-0178-4e68-8195-406a28f7f017",
   "metadata": {},
   "outputs": [],
   "source": [
    "plt.figure(figsize = (16, 8))\n",
    "\n",
    "plt.plot(df['date'], df['value'], marker = '.')\n",
    "plt.plot(outliers_percentile_date, outliers_percentile['value'], 'o', color = 'red', label = 'outlier')\n",
    "plt.title('Anomaly detection By Percentile')\n",
    "\n",
    "#plt.grid()\n",
    "plt.xlabel('Date')\n",
    "plt.ylabel('Neutral Current')\n",
    "plt.legend()"
   ]
  },
  {
   "cell_type": "code",
   "execution_count": null,
   "id": "3cbf2508-cb3c-49f5-844f-6a8fb1493296",
   "metadata": {},
   "outputs": [],
   "source": []
  }
 ],
 "metadata": {
  "kernelspec": {
   "display_name": "Python 3 (ipykernel)",
   "language": "python",
   "name": "python3"
  },
  "language_info": {
   "codemirror_mode": {
    "name": "ipython",
    "version": 3
   },
   "file_extension": ".py",
   "mimetype": "text/x-python",
   "name": "python",
   "nbconvert_exporter": "python",
   "pygments_lexer": "ipython3",
   "version": "3.10.12"
  },
  "scenes_data": {
   "active_scene": "Default Scene",
   "init_scene": "",
   "scenes": [
    "Default Scene"
   ]
  }
 },
 "nbformat": 4,
 "nbformat_minor": 5
}
