{
 "cells": [
  {
   "cell_type": "code",
   "execution_count": null,
   "id": "6abe25ee-0499-44e1-b329-be048a9b2a00",
   "metadata": {},
   "outputs": [],
   "source": [
    "import pandas as pd\n",
    "from clickhouse_driver import Client\n",
    "import numpy as np\n",
    "from statistics import mean, stdev\n",
    "import matplotlib.pyplot as plt\n",
    "import seaborn as sns\n",
    "from sklearn.model_selection import train_test_split, cross_validate\n",
    "from sklearn.pipeline import make_pipeline\n",
    "from sklearn.preprocessing import StandardScaler\n",
    "from sklearn.metrics import precision_recall_fscore_support, f1_score, confusion_matrix, ConfusionMatrixDisplay, SCORERS, classification_report\n",
    "from xgboost import XGBClassifier\n",
    "import featuretools as ft\n",
    "import time\n",
    "import yaml\n",
    "from datetime import datetime, timedelta\n",
    "import statistics"
   ]
  },
  {
   "cell_type": "markdown",
   "id": "2d31bbe2-9e0b-4fdd-8da4-2e22687e2b93",
   "metadata": {},
   "source": [
    "## Basic variables"
   ]
  },
  {
   "cell_type": "code",
   "execution_count": null,
   "id": "ff1234df-12d1-47b7-a753-f59f56640850",
   "metadata": {},
   "outputs": [],
   "source": [
    "CH_CONFIG_PATH = 'config.txt' # local path to ClickHouse DB credentials\n",
    "\n",
    "client = Client(\n",
    "  **yaml.load(\n",
    "    open(CH_CONFIG_PATH, 'r'), \n",
    "    Loader=yaml.SafeLoader\n",
    "  )['database']\n",
    ")"
   ]
  },
  {
   "cell_type": "code",
   "execution_count": null,
   "id": "a637db46-f271-4bbe-9acc-d86e0ed48379",
   "metadata": {},
   "outputs": [],
   "source": [
    "base_query = 'select user_id from schema.table1 group by user_id'\n",
    "threshold_date = '2008-01-01'"
   ]
  },
  {
   "cell_type": "markdown",
   "id": "e5505c99-bde8-4d0e-845d-9a4153c160d5",
   "metadata": {},
   "source": [
    "## Data from production model"
   ]
  },
  {
   "cell_type": "code",
   "execution_count": null,
   "id": "b7a847e6-a866-4ba7-b9b4-5bb278657536",
   "metadata": {},
   "outputs": [],
   "source": [
    "df = pd.read_parquet(\"../../shared/my_file.parquet\")"
   ]
  },
  {
   "cell_type": "code",
   "execution_count": null,
   "id": "5d0f810c-74f5-4f5b-8891-51d27bdf4101",
   "metadata": {},
   "outputs": [],
   "source": [
    "main_table = client.query_dataframe(\"\"\"select *\n",
    "                                    from schema.table as c \n",
    "                                    where c.user_id is not null \n",
    "                                        and toDate(c.updated) <= '{}'\n",
    "                                        \"\"\"\n",
    "                                     .format(threshold_date))\n",
    "\n",
    "comment_ids.info()"
   ]
  },
  {
   "cell_type": "code",
   "execution_count": null,
   "id": "93db00cd-be12-4ba2-a2cb-326246144a92",
   "metadata": {},
   "outputs": [],
   "source": [
    "df = df.merge(main_table, how='left', on='id')"
   ]
  },
  {
   "cell_type": "markdown",
   "id": "28b45d8e-2a76-476c-a78c-850f003a54be",
   "metadata": {},
   "source": [
    "## Load data"
   ]
  },
  {
   "cell_type": "code",
   "execution_count": null,
   "id": "c452a651-ce65-4ee4-b562-c01785f1e677",
   "metadata": {},
   "outputs": [],
   "source": [
    "orders = client.query_dataframe(\"\"\"select *\n",
    "                                    from schema.table as o \n",
    "                                    ANY LEFT JOIN schema2.dictionary as d ON d.status=o.status \n",
    "                                    where o.date between '{}' and '{}'\n",
    "                                        and o.user_id in ({})\"\"\"\n",
    ".format(threshold_date, threshold_date2, base_query))"
   ]
  },
  {
   "cell_type": "markdown",
   "id": "8e5376a8-dae8-4af3-8f23-ab94f8703001",
   "metadata": {},
   "source": [
    "Drop incorrect values and convert features to numeric."
   ]
  },
  {
   "cell_type": "code",
   "execution_count": null,
   "id": "bb760ff4-aebb-428a-b132-58509d2e56d2",
   "metadata": {},
   "outputs": [],
   "source": [
    "orders[\"sum\"] = pd.to_numeric(orders[\"sum\"], errors='coerce')"
   ]
  },
  {
   "cell_type": "markdown",
   "id": "f3257061-7d61-4103-b751-e439f42b2135",
   "metadata": {},
   "source": [
    "## Feature matrix"
   ]
  },
  {
   "cell_type": "code",
   "execution_count": null,
   "id": "a1f87f22-abc7-4564-b36a-aabce897b821",
   "metadata": {},
   "outputs": [],
   "source": [
    "users = orders.groupby([ \"user_id\"] ).size().to_frame(name = 'count').reset_index()"
   ]
  },
  {
   "cell_type": "code",
   "execution_count": null,
   "id": "1b919d0b-f5e7-429f-afaf-0e6907e684d0",
   "metadata": {},
   "outputs": [],
   "source": [
    "es = ft.EntitySet(id = 'extenal_id')\n",
    "es"
   ]
  },
  {
   "cell_type": "code",
   "execution_count": null,
   "id": "d300df84-5674-4aae-805f-51662447342c",
   "metadata": {},
   "outputs": [],
   "source": [
    "es = es.add_dataframe(\n",
    "    dataframe_name=\"orders\",\n",
    "    dataframe=table2,\n",
    "    index=\"id\",\n",
    ")"
   ]
  },
  {
   "cell_type": "code",
   "execution_count": null,
   "id": "446b5959-2a79-4706-b11e-a60deefeb8bf",
   "metadata": {},
   "outputs": [],
   "source": [
    "es = es.add_dataframe(\n",
    "    dataframe_name=\"users\",\n",
    "    dataframe=users,\n",
    "    index=\"user_id\",\n",
    ")"
   ]
  },
  {
   "cell_type": "code",
   "execution_count": null,
   "id": "8c8f83c5-f58b-4c1a-952e-d3bde1fff9ac",
   "metadata": {},
   "outputs": [],
   "source": [
    "es = es.add_relationship(\"users\", \"user_id\", \"orders\", \"id\")"
   ]
  },
  {
   "cell_type": "code",
   "execution_count": null,
   "id": "a86e42c4-b179-4cf8-921d-5862ecc84b07",
   "metadata": {},
   "outputs": [],
   "source": [
    "tic = time.time()\n",
    "feature_matrix, feature_defs = ft.dfs(entityset=es, target_dataframe_name=\"users\", n_jobs=3, ignore_columns={'users':['count'] }, agg_primitives=['sum', 'std', 'max', 'skew', 'min', 'mean', 'count'])\n",
    "toc = time.time()\n",
    "\n",
    "feature_matrix"
   ]
  },
  {
   "cell_type": "code",
   "execution_count": null,
   "id": "fc8336d2-48e1-41ca-8d21-7f059f3063a4",
   "metadata": {},
   "outputs": [],
   "source": [
    "print('Processing time:', toc-tic)"
   ]
  },
  {
   "cell_type": "code",
   "execution_count": null,
   "id": "4373f586-bc82-4e59-afb0-46aa481b7b09",
   "metadata": {},
   "outputs": [],
   "source": [
    "ft_df = feature_matrix.reset_index()\n",
    "ft_df.head()"
   ]
  },
  {
   "cell_type": "code",
   "execution_count": null,
   "id": "120a2344-2fdb-4358-83ee-83b93ddd471d",
   "metadata": {},
   "outputs": [],
   "source": [
    "for col in ( 'COUNT(orders)',\n",
    " 'MAX(orders.order_sum)',\n",
    " 'MEAN(orders.order_sum)',\n",
    " 'MIN(orders.order_sum)',\n",
    " 'SKEW(orders.order_sum)',\n",
    " 'STD(orders.order_sum)',\n",
    " 'SUM(orders.order_sum)'):\n",
    "    df2[col] = np.where(df2['first_order_created_date'].dt.date < df2['comment_created'].dt.date, df2[col], -1)"
   ]
  },
  {
   "cell_type": "markdown",
   "id": "7a5d780f-b478-4965-a5b6-ff1d598773d8",
   "metadata": {},
   "source": [
    "Replace missing values with -1"
   ]
  },
  {
   "cell_type": "code",
   "execution_count": null,
   "id": "669da5ee-c8ea-4799-a629-5e1d2a1d68c1",
   "metadata": {},
   "outputs": [],
   "source": [
    "new_cols = [\n",
    " 'COUNT(orders)',\n",
    " 'MAX(orders.order_sum)']"
   ]
  },
  {
   "cell_type": "code",
   "execution_count": null,
   "id": "3bc6d602-a970-48f1-8f98-9ad252fff9df",
   "metadata": {},
   "outputs": [],
   "source": [
    "for col in new_cols:\n",
    "    df2[col] = df2[col].fillna(-1)"
   ]
  },
  {
   "cell_type": "markdown",
   "id": "13ab6f70-57e4-4473-86c1-358a98a03918",
   "metadata": {},
   "source": [
    "Percent of missing values"
   ]
  },
  {
   "cell_type": "code",
   "execution_count": null,
   "id": "6c663bd6-4384-459d-bbc3-50355cff8df5",
   "metadata": {},
   "outputs": [],
   "source": [
    "for col in new_cols:\n",
    "    print(df2[[col]].isna().sum()/df2.shape[0])"
   ]
  },
  {
   "cell_type": "code",
   "execution_count": null,
   "id": "c06b67f2-bf1e-4c6f-bc43-c40fb40a8d08",
   "metadata": {},
   "outputs": [],
   "source": [
    "df2 = df2.astype({'COUNT(orders)':'int'})"
   ]
  },
  {
   "cell_type": "code",
   "execution_count": null,
   "id": "d2f5878a-a24a-4c2b-a41e-fce1cb31f085",
   "metadata": {},
   "outputs": [],
   "source": [
    "neg, pos = np.bincount(df2['is_spam'])\n",
    "total = neg + pos\n",
    "print('Examples:\\n    Total: {}\\n    Positive: {} ({:.2f}% of total)\\n'.format(\n",
    "    total, pos, 100 * pos / total))"
   ]
  },
  {
   "cell_type": "markdown",
   "id": "de0267b9-5e58-4218-842b-ae04748f8076",
   "metadata": {},
   "source": [
    "## Split data"
   ]
  },
  {
   "cell_type": "code",
   "execution_count": null,
   "id": "571f7781-1f8f-4c33-89ea-8b413ad31d6f",
   "metadata": {},
   "outputs": [],
   "source": [
    "test_size = 50000"
   ]
  },
  {
   "cell_type": "code",
   "execution_count": null,
   "id": "dad5c670-3d75-4dcc-98d0-a482a0a99b13",
   "metadata": {},
   "outputs": [],
   "source": [
    "target_names = ['Non_spam', 'Spam']"
   ]
  },
  {
   "cell_type": "markdown",
   "id": "2312fd9a-5a06-46b4-9349-9e7191cdbefe",
   "metadata": {},
   "source": [
    "## Experiment 1 \n",
    "test on last records by date"
   ]
  },
  {
   "cell_type": "code",
   "execution_count": null,
   "id": "eaf1e28b-fa0f-4b81-89d3-2e997030f6a1",
   "metadata": {},
   "outputs": [],
   "source": [
    "n = df2.sort_values(\n",
    "    by=['created_date'], ascending=False)\n",
    "\n",
    "test = n.head(test_size)\n",
    "train = n.tail(n.shape[0]-test_size)"
   ]
  },
  {
   "cell_type": "code",
   "execution_count": null,
   "id": "17dd32a2-51ee-4973-a0bd-9c1e684dd213",
   "metadata": {},
   "outputs": [],
   "source": [
    "X_train = train.drop(['date', 'target'], axis=1)\n",
    "y_train = train[['target']]\n",
    "X_test = test.drop(['date', 'target'], axis=1)\n",
    "y_test = test[['target']]"
   ]
  },
  {
   "cell_type": "code",
   "execution_count": null,
   "id": "d06fb46b-6d55-46d5-816c-bb26770f4701",
   "metadata": {},
   "outputs": [],
   "source": [
    "X_train_ = X_train.drop(new_cols, axis=1)\n",
    "X_test_ = X_test.drop(new_cols, axis=1)"
   ]
  },
  {
   "cell_type": "markdown",
   "id": "42054779-84cc-4146-9049-d8a07dc4921e",
   "metadata": {},
   "source": [
    "Train without new features"
   ]
  },
  {
   "cell_type": "code",
   "execution_count": null,
   "id": "329fc8f2-dee7-470c-a1d4-05480e66b77d",
   "metadata": {},
   "outputs": [],
   "source": [
    "model = XGBClassifier(use_label_encoder=False, seed=1)\n",
    "model.fit(X_train_,np.ravel(y_train))\n",
    "y_pred = model.predict(X_test_)\n",
    "print(classification_report(np.ravel(y_test), y_pred, digits=6, target_names=target_names))"
   ]
  },
  {
   "cell_type": "markdown",
   "id": "8c41d9d5-b00e-40f5-9c09-e6421b6744be",
   "metadata": {},
   "source": [
    "Train with new features"
   ]
  },
  {
   "cell_type": "code",
   "execution_count": null,
   "id": "11894b66-632f-4e6f-b7ed-acca6e7f6762",
   "metadata": {},
   "outputs": [],
   "source": [
    "model = XGBClassifier(use_label_encoder=False, seed=1)\n",
    "model.fit(X_train,np.ravel(y_train))\n",
    "y_pred = model.predict(X_test)\n",
    "print(classification_report(np.ravel(y_test), y_pred, digits=6, target_names=target_names))"
   ]
  },
  {
   "cell_type": "markdown",
   "id": "e04d50d8-c2ba-4e72-9a00-507d6f622a19",
   "metadata": {},
   "source": [
    "Feature importance in model with orders"
   ]
  },
  {
   "cell_type": "code",
   "execution_count": null,
   "id": "928ec25d-db8a-412c-8867-3effdf1472fc",
   "metadata": {},
   "outputs": [],
   "source": [
    "from xgboost import plot_importance\n",
    "fig, ax = plt.subplots(figsize=(1,20))\n",
    "plot_importance(model, ax=ax)"
   ]
  },
  {
   "cell_type": "markdown",
   "id": "205cb681-9d67-48a8-9581-8059288805df",
   "metadata": {},
   "source": [
    "## Experiment 2 \n",
    "- test on random sample."
   ]
  },
  {
   "cell_type": "code",
   "execution_count": null,
   "id": "cdab25d1",
   "metadata": {},
   "outputs": [],
   "source": [
    "test = df2.sample(n = test_size)\n",
    "train = df2.drop(test.index)"
   ]
  },
  {
   "cell_type": "code",
   "execution_count": null,
   "id": "18816beb-27a7-464d-86f2-b198b45f7b84",
   "metadata": {},
   "outputs": [],
   "source": [
    "X_train = train.drop(['created_date', 'target'], axis=1)\n",
    "y_train = train[['target']]\n",
    "X_test = test.drop(['created_date', 'target'], axis=1)\n",
    "y_test = test[['target']]"
   ]
  },
  {
   "cell_type": "code",
   "execution_count": null,
   "id": "f11b2e4d-12cc-4704-9e9f-5232b60ffb1a",
   "metadata": {},
   "outputs": [],
   "source": [
    "X_train_ = X_train.drop(new_cols, axis=1)\n",
    "X_test_ = X_test.drop(new_cols, axis=1)"
   ]
  },
  {
   "cell_type": "markdown",
   "id": "ce24788a-164d-4589-86b0-62e71721e4e3",
   "metadata": {},
   "source": [
    "Train without new features"
   ]
  },
  {
   "cell_type": "code",
   "execution_count": null,
   "id": "950f4873-303e-4f8f-a44d-2f90f58276c0",
   "metadata": {},
   "outputs": [],
   "source": [
    "model = XGBClassifier(use_label_encoder=False, seed=1)\n",
    "model.fit(X_train_,np.ravel(y_train))\n",
    "y_pred = model.predict(X_test_)\n",
    "print(classification_report(np.ravel(y_test), y_pred, digits=6, target_names=target_names))"
   ]
  },
  {
   "cell_type": "markdown",
   "id": "b36b2689-f5a6-4a7f-b5a8-1c8dce933387",
   "metadata": {},
   "source": [
    "Train with new features"
   ]
  },
  {
   "cell_type": "code",
   "execution_count": null,
   "id": "617f3b7f-fffc-4dc8-a6a0-cdc0e99174f5",
   "metadata": {},
   "outputs": [],
   "source": [
    "model = XGBClassifier(use_label_encoder=False, seed=1)\n",
    "model.fit(X_train,np.ravel(y_train))\n",
    "y_pred = model.predict(X_test)\n",
    "print(classification_report(np.ravel(y_test), y_pred, digits=6, target_names=target_names))"
   ]
  },
  {
   "cell_type": "code",
   "execution_count": null,
   "id": "b6194567-da86-434b-84f8-2db44abb432b",
   "metadata": {},
   "outputs": [],
   "source": []
  }
 ],
 "metadata": {
  "kernelspec": {
   "display_name": "Python 3 (ipykernel)",
   "language": "python",
   "name": "python3"
  },
  "language_info": {
   "codemirror_mode": {
    "name": "ipython",
    "version": 3
   },
   "file_extension": ".py",
   "mimetype": "text/x-python",
   "name": "python",
   "nbconvert_exporter": "python",
   "pygments_lexer": "ipython3",
   "version": "3.9.7"
  }
 },
 "nbformat": 4,
 "nbformat_minor": 5
}
