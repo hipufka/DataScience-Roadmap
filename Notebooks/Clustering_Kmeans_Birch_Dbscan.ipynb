{
 "cells": [
  {
   "cell_type": "code",
   "execution_count": null,
   "metadata": {
    "id": "W68aNAEohnMw"
   },
   "outputs": [],
   "source": [
    "import pandas as pd\n",
    "import seaborn as sns\n",
    "import matplotlib.pyplot as plt\n",
    "import numpy as np\n",
    "from sklearn import preprocessing\n",
    "from sklearn.cluster import KMeans\n",
    "from sklearn.metrics import silhouette_score"
   ]
  },
  {
   "cell_type": "markdown",
   "metadata": {
    "id": "Og0ee6RoYwhy"
   },
   "source": [
    "#### Импортируем датасет "
   ]
  },
  {
   "cell_type": "code",
   "execution_count": null,
   "metadata": {
    "colab": {
     "base_uri": "https://localhost:8080/",
     "height": 204
    },
    "id": "Yo2Loh5zvDV2",
    "outputId": "9a82f3e8-3e52-45d7-b4ca-a4f7de81e73f"
   },
   "outputs": [],
   "source": [
    "df = pd.read_csv('file.csv', low_memory=False)\n",
    "df.head()"
   ]
  },
  {
   "cell_type": "code",
   "execution_count": null,
   "metadata": {
    "colab": {
     "base_uri": "https://localhost:8080/",
     "height": 514
    },
    "id": "QUQh9tIpvYdE",
    "outputId": "c615cee9-a857-4255-9b6b-957a3c604ec6"
   },
   "outputs": [],
   "source": [
    "Total=df.isnull().sum().sort_values(ascending=False)\n",
    "Percent_null=(df.isnull().sum()/df.isnull().count()).sort_values(ascending=False)\n",
    "missing_data=pd.concat([Total, Percent_null],axis=1, keys=['Total', 'Percent_null'])\n",
    "missing_data.head(15)"
   ]
  },
  {
   "cell_type": "markdown",
   "metadata": {
    "id": "YIOAJmnABqmq"
   },
   "source": [
    "#### Удаление выбросов методом z-оценки"
   ]
  },
  {
   "cell_type": "code",
   "execution_count": null,
   "metadata": {
    "colab": {
     "base_uri": "https://localhost:8080/",
     "height": 317
    },
    "id": "G-3PViMDBpgx",
    "outputId": "5d0f8c90-931c-4254-a0ca-ba9bc9ea946d"
   },
   "outputs": [],
   "source": [
    "df.describe()"
   ]
  },
  {
   "cell_type": "code",
   "execution_count": null,
   "metadata": {
    "id": "v2QHZK_CErlZ"
   },
   "outputs": [],
   "source": [
    "df_no_outlier=df\n",
    "for col in ('col1','col2','col3'):\n",
    "  m=df_no_outlier[col].mean()\n",
    "  s=df_no_outlier[col].std()\n",
    "  df_no_outlier=df_no_outlier.loc[((df[col] -m)/s)<3]"
   ]
  },
  {
   "cell_type": "markdown",
   "metadata": {
    "id": "iGMIUSzaERsp"
   },
   "source": [
    "#### Анализ корреляций"
   ]
  },
  {
   "cell_type": "code",
   "execution_count": null,
   "metadata": {
    "colab": {
     "base_uri": "https://localhost:8080/",
     "height": 630
    },
    "id": "1M0mZfv3xs_W",
    "outputId": "4d88c654-fb45-4fe1-bf58-0add83eedee3"
   },
   "outputs": [],
   "source": [
    "corrmat = df.corr()\n",
    "f, ax = plt.subplots(figsize=(12, 9))\n",
    "sns.heatmap(corrmat, vmax=.8, square=True, annot=True)"
   ]
  },
  {
   "cell_type": "markdown",
   "metadata": {
    "id": "5y_K-EQf0RWI"
   },
   "source": [
    "Если корреляции между показателями не превышают 0.75 по модулю, то не являются высокими."
   ]
  },
  {
   "cell_type": "code",
   "execution_count": null,
   "metadata": {
    "id": "heMjBWdn1G0W"
   },
   "outputs": [],
   "source": [
    "for col in ('col3','col4'):\n",
    "  df=df.drop(col,1)\n",
    "  df_no_outlier=df_no_outlier.drop(col,1)"
   ]
  },
  {
   "cell_type": "markdown",
   "metadata": {
    "id": "ru12zhcJapJv"
   },
   "source": [
    "#### Обработка категориальных данных"
   ]
  },
  {
   "cell_type": "code",
   "execution_count": null,
   "metadata": {
    "colab": {
     "base_uri": "https://localhost:8080/"
    },
    "id": "cyIwJTflgaiJ",
    "outputId": "8d2c57bf-a3e7-48f1-f6d6-8d29d7d6be4d"
   },
   "outputs": [],
   "source": [
    "df = pd.get_dummies(df)\n",
    "df_no_outlier=pd.get_dummies(df_no_outlier)"
   ]
  },
  {
   "cell_type": "markdown",
   "metadata": {
    "id": "igq7wSSPAxlH"
   },
   "source": [
    "#### Нормализация данных"
   ]
  },
  {
   "cell_type": "code",
   "execution_count": null,
   "metadata": {
    "id": "QB9aLviNgaiP"
   },
   "outputs": [],
   "source": [
    "df_normalized=df.drop('user_id',1)\n",
    "df_no_outlier_normalized=df_no_outlier.drop('user_id',1)"
   ]
  },
  {
   "cell_type": "code",
   "execution_count": null,
   "metadata": {
    "id": "18RApwOqBTBl"
   },
   "outputs": [],
   "source": [
    "df_normalized=preprocessing.normalize(df_normalized, norm='max')\n",
    "df_no_outlier_normalized=preprocessing.normalize(df_no_outlier_normalized, norm='max')"
   ]
  },
  {
   "cell_type": "markdown",
   "metadata": {
    "id": "8QP8nC2igaiT"
   },
   "source": [
    "#### Кластеризация"
   ]
  },
  {
   "cell_type": "markdown",
   "metadata": {
    "id": "kO1bKDwmukTH"
   },
   "source": [
    "#### 1. K-средних"
   ]
  },
  {
   "cell_type": "markdown",
   "metadata": {
    "id": "c-Tv96RUQnyS"
   },
   "source": [
    "#### Определим оптимальное количество кластеров с помощью графика суммы квадратов расстояний точек к ближайшему центру кластера."
   ]
  },
  {
   "cell_type": "code",
   "execution_count": null,
   "metadata": {
    "colab": {
     "base_uri": "https://localhost:8080/",
     "height": 290
    },
    "id": "Iz5hNdriDaNb",
    "outputId": "e56dd83e-a4b0-4f71-c9d4-09f6618ec6c5"
   },
   "outputs": [],
   "source": [
    "sse={}\n",
    "n=15\n",
    "for k in range(n):\n",
    "  kmeans=KMeans(n_clusters=k+1,max_iter=1000,random_state=0).fit(df_no_outlier_normalized)\n",
    "  sse[k+1]=kmeans.inertia_\n",
    "\n",
    "plt.figure()\n",
    "plt.plot(list(sse.keys()),list(sse.values()))\n",
    "plt.xlabel(\"Number of clusters\")\n",
    "plt.ylabel(\"SSE\")\n",
    "plt.show()\n"
   ]
  },
  {
   "cell_type": "markdown",
   "metadata": {
    "id": "57BQYxyYWnhx"
   },
   "source": [
    "#### Оптимальное количество кластеров: 4 (согласно методу изгиба локтя)."
   ]
  },
  {
   "cell_type": "markdown",
   "metadata": {
    "id": "mqbdJ6zSOLta"
   },
   "source": [
    "#### При попытке увеличить число кластеров увеличить число кластеров до 100 метод не отрабатывает (происходит переполнение RAM)."
   ]
  },
  {
   "cell_type": "markdown",
   "metadata": {
    "id": "V_rWjFITXyMz"
   },
   "source": [
    "#### Рассчитаем коэфициент силуэта для 4 кластеров."
   ]
  },
  {
   "cell_type": "code",
   "execution_count": null,
   "metadata": {
    "id": "wTRIzNQYF3xA"
   },
   "outputs": [],
   "source": [
    "kmeans=KMeans(n_clusters=4,max_iter=1000,random_state=0).fit(df_no_outlier_normalized)"
   ]
  },
  {
   "cell_type": "code",
   "execution_count": null,
   "metadata": {
    "colab": {
     "base_uri": "https://localhost:8080/",
     "height": 279
    },
    "id": "Xnz7wpM5XVd3",
    "outputId": "a116bc04-7e49-4301-c134-e037e0cccdf8"
   },
   "outputs": [],
   "source": [
    "s={}\n",
    "n=10000\n",
    "for k in range(5):\n",
    "  i=k*1000000\n",
    "  small=df_no_outlier_normalized[i:i+n]\n",
    "  small_labels=kmeans.labels_[i:i+n]\n",
    "  s[k]=silhouette_score(small,small_labels,metric='euclidean')\n",
    "\n",
    "plt.figure()\n",
    "plt.plot(list(s.keys()),list(s.values()))\n",
    "plt.xlabel(\"Number of iteration\")\n",
    "plt.ylabel(\"Silhouette\")\n",
    "plt.show()"
   ]
  },
  {
   "cell_type": "code",
   "execution_count": null,
   "metadata": {
    "colab": {
     "base_uri": "https://localhost:8080/"
    },
    "id": "TjNwiSOi_Z_w",
    "outputId": "3b69e2ef-208a-43ee-ba81-726599a08624"
   },
   "outputs": [],
   "source": [
    "print(\"Silhouette Coefficient:\", score)"
   ]
  },
  {
   "cell_type": "markdown",
   "metadata": {
    "id": "OcUc7DUMuhvq"
   },
   "source": [
    "#### 2. DBSCAN"
   ]
  },
  {
   "cell_type": "code",
   "execution_count": null,
   "metadata": {
    "id": "tivdpsigX-cJ"
   },
   "outputs": [],
   "source": [
    "from sklearn.cluster import DBSCAN\n",
    "from sklearn import metrics"
   ]
  },
  {
   "cell_type": "code",
   "execution_count": null,
   "metadata": {
    "id": "xIDbJuCVTTD_"
   },
   "outputs": [],
   "source": [
    "n=10000\n",
    "small=df_no_outlier_normalized[0:n]"
   ]
  },
  {
   "cell_type": "markdown",
   "metadata": {
    "id": "Rxe2iTqfPxmx"
   },
   "source": [
    "Метод не отрабатывает для выборки большого объема (100 тыс. записей и более)."
   ]
  },
  {
   "cell_type": "code",
   "execution_count": null,
   "metadata": {
    "colab": {
     "base_uri": "https://localhost:8080/"
    },
    "id": "XI7tcXwcTUPd",
    "outputId": "8cbdf2c9-4f41-462a-e67e-cc6215997d34"
   },
   "outputs": [],
   "source": [
    "# Compute DBSCAN\n",
    "db = DBSCAN(eps=0.5, min_samples=10).fit(small)\n",
    "labels = db.labels_\n",
    "\n",
    "# Number of clusters in labels, ignoring noise if present.\n",
    "n_clusters_ = len(set(labels)) - (1 if -1 in labels else 0)\n",
    "n_noise_ = list(labels).count(-1)\n",
    "\n",
    "print('Estimated number of clusters: %d' % n_clusters_)\n",
    "print('Estimated number of noise points: %d' % n_noise_)"
   ]
  },
  {
   "cell_type": "code",
   "execution_count": null,
   "metadata": {
    "colab": {
     "base_uri": "https://localhost:8080/"
    },
    "id": "RfdYF_4LIXqN",
    "outputId": "c5d53e4a-a54f-4f8b-efba-9692aaff1236"
   },
   "outputs": [],
   "source": [
    "print(\"Silhouette Coefficient: %0.3f\" % metrics.silhouette_score(small, labels))"
   ]
  },
  {
   "cell_type": "markdown",
   "metadata": {
    "id": "kb2RP7NHF1wn"
   },
   "source": [
    "#### 3. Ward"
   ]
  },
  {
   "cell_type": "code",
   "execution_count": null,
   "metadata": {
    "id": "LbUnk7d1OwKh"
   },
   "outputs": [],
   "source": [
    "from sklearn.cluster import AgglomerativeClustering\n",
    "n_clusters = 4  \n",
    "ward = AgglomerativeClustering(n_clusters=n_clusters, linkage='ward')"
   ]
  },
  {
   "cell_type": "markdown",
   "metadata": {
    "id": "JAsRI2kPQTt5"
   },
   "source": [
    "Метод не отрабатывает для выборки большого объема (100 тыс. записей и более)."
   ]
  },
  {
   "cell_type": "code",
   "execution_count": null,
   "metadata": {
    "id": "c3Z7qtxjSG59"
   },
   "outputs": [],
   "source": [
    "n=10000\n",
    "small=df_no_outlier_normalized[0:n]"
   ]
  },
  {
   "cell_type": "code",
   "execution_count": null,
   "metadata": {
    "colab": {
     "base_uri": "https://localhost:8080/"
    },
    "id": "RYbxfS22O-UG",
    "outputId": "5177d309-9d59-4bc0-c73f-c3e6f860c5f2"
   },
   "outputs": [],
   "source": [
    "ward.fit(small)"
   ]
  },
  {
   "cell_type": "code",
   "execution_count": null,
   "metadata": {
    "colab": {
     "base_uri": "https://localhost:8080/"
    },
    "id": "Z9fmb1umSFUT",
    "outputId": "facd083f-04b3-46d3-c8a7-dabc05d0d91a"
   },
   "outputs": [],
   "source": [
    "score=silhouette_score(small,ward.labels_,metric='euclidean')\n",
    "print(\"Silhouette Coefficient: %0.3f\" % score)"
   ]
  },
  {
   "cell_type": "markdown",
   "metadata": {
    "id": "V2ipfWkBfFdb"
   },
   "source": [
    "#### 4. Birch"
   ]
  },
  {
   "cell_type": "code",
   "execution_count": null,
   "metadata": {
    "id": "jax6wYrCRa8i"
   },
   "outputs": [],
   "source": [
    "from sklearn.cluster import Birch\n",
    "brc = Birch(branching_factor=50, n_clusters=None, threshold=0.53)"
   ]
  },
  {
   "cell_type": "code",
   "execution_count": null,
   "metadata": {
    "colab": {
     "base_uri": "https://localhost:8080/"
    },
    "id": "l9iSQr_yirXH",
    "outputId": "142cee30-32bf-4f7f-b5ee-382b671fe954"
   },
   "outputs": [],
   "source": [
    "brc.fit(df_no_outlier_normalized)"
   ]
  },
  {
   "cell_type": "code",
   "execution_count": null,
   "metadata": {
    "colab": {
     "base_uri": "https://localhost:8080/"
    },
    "id": "PEJsiHtFk60F",
    "outputId": "4a0498db-0711-4ea0-fe31-628011ff1927"
   },
   "outputs": [],
   "source": [
    "labels_true = brc.predict(df_no_outlier_normalized)\n",
    "print(set(labels_true))"
   ]
  },
  {
   "cell_type": "code",
   "execution_count": null,
   "metadata": {
    "colab": {
     "base_uri": "https://localhost:8080/",
     "height": 279
    },
    "id": "-6u7wzN67Itl",
    "outputId": "85416352-7319-4425-8769-e3aef9080c8e"
   },
   "outputs": [],
   "source": [
    "s={}\n",
    "n=10000\n",
    "for k in range(5):\n",
    "  i=k*1000000\n",
    "  small=df_no_outlier_normalized[i:i+n]\n",
    "  small_labels=labels_true[i:i+n]\n",
    "  s[k]=silhouette_score(small,small_labels,metric='euclidean')\n",
    "\n",
    "plt.figure()\n",
    "plt.plot(list(s.keys()),list(s.values()))\n",
    "plt.xlabel(\"Number of iteration\")\n",
    "plt.ylabel(\"Silhouette\")\n",
    "plt.show()"
   ]
  },
  {
   "cell_type": "markdown",
   "metadata": {
    "id": "pv3NfGIES0LS"
   },
   "source": [
    "#### Результаты кластеризации"
   ]
  },
  {
   "cell_type": "code",
   "execution_count": null,
   "metadata": {
    "colab": {
     "base_uri": "https://localhost:8080/",
     "height": 224
    },
    "id": "6cs3QZN07Ycn",
    "outputId": "1770a963-264e-4a77-9f19-aa58646a56e5"
   },
   "outputs": [],
   "source": [
    "df_no_outlier[\"kmeans\"]=kmeans.labels_\n",
    "df_no_outlier.head()"
   ]
  },
  {
   "cell_type": "code",
   "execution_count": null,
   "metadata": {
    "colab": {
     "base_uri": "https://localhost:8080/",
     "height": 224
    },
    "id": "UMcV-kgpSyYR",
    "outputId": "7ded259b-d831-4980-a443-71c547b2b95d"
   },
   "outputs": [],
   "source": [
    "df_mean_kmeans = df_no_outlier.drop(\"user_id\",1).groupby(\"kmeans\").mean()\n",
    "df_mean_kmeans"
   ]
  },
  {
   "cell_type": "code",
   "execution_count": null,
   "metadata": {
    "colab": {
     "base_uri": "https://localhost:8080/",
     "height": 224
    },
    "id": "nlCadb22XecR",
    "outputId": "0d2f9ab3-ceca-40b2-f8fc-959a0d9c79e4"
   },
   "outputs": [],
   "source": [
    "df_mean_kmeans[\"cluster_size\"] = df_no_outlier.groupby(\"kmeans\").size()\n",
    "df_mean_kmeans"
   ]
  },
  {
   "cell_type": "code",
   "execution_count": null,
   "metadata": {
    "id": "-cIN2VBAepnk"
   },
   "outputs": [],
   "source": [
    "colors = ['#DF2020', '#81DF20', '#2095DF','#fc9d03']\n",
    "df_no_outlier['col_kmeans'] = df_no_outlier.kmeans.map({0:colors[0], 1:colors[1], 2:colors[2],3:colors[3]})"
   ]
  },
  {
   "cell_type": "code",
   "execution_count": null,
   "metadata": {
    "colab": {
     "base_uri": "https://localhost:8080/",
     "height": 282
    },
    "id": "PSd5hfMUlAiD",
    "outputId": "d06bb33d-4fbc-417c-bdce-eb4c9d743496"
   },
   "outputs": [],
   "source": [
    "plt.scatter(df_no_outlier.card_views, df_no_outlier.sum_orders_s,c=df_no_outlier.col_kmeans, alpha = 0.6, s=10)"
   ]
  },
  {
   "cell_type": "code",
   "execution_count": null,
   "metadata": {
    "colab": {
     "base_uri": "https://localhost:8080/",
     "height": 495
    },
    "id": "7lyY01wWoL1h",
    "outputId": "3163e1b9-d9ee-447e-f56b-5ef7e7eeaba0"
   },
   "outputs": [],
   "source": [
    "labels = ['0','1','2','3']\n",
    "order_sum = df_mean_kmeans[\"card_views\"]\n",
    "\n",
    "x = np.arange(len(labels))  # the label locations\n",
    "width = 0.5  # the width of the bars\n",
    "\n",
    "fig, ax = plt.subplots()\n",
    "rects1 = ax.bar(x, order_sum, width, label='card_views')\n",
    "\n",
    "# Add some text for labels, title and custom x-axis tick labels, etc.\n",
    "# ax.set_ylabel('card views')\n",
    "ax.set_title('Kmeans - card views by clusters')\n",
    "ax.set_xticks(x)\n",
    "ax.set_xticklabels(labels)\n",
    "ax.legend()\n",
    "\n",
    "ax.bar_label(rects1, padding=3)\n",
    "\n",
    "fig.tight_layout()\n",
    "\n",
    "plt.show()"
   ]
  },
  {
   "cell_type": "code",
   "execution_count": null,
   "metadata": {
    "colab": {
     "base_uri": "https://localhost:8080/",
     "height": 251
    },
    "id": "IAtPi1UXsMY1",
    "outputId": "e3dcc273-6f7c-4d4e-cb8c-0d49d07c74b6"
   },
   "outputs": [],
   "source": [
    "vals = df_mean_kmeans[\"cluster_size\"]\n",
    "labels = [\"active users\", \"no orders\", \"one-time\", \"loyal thrifty\"]\n",
    "fig, ax = plt.subplots()\n",
    "ax.pie(vals, labels=labels, autopct='%1.1f%%',)\n",
    "ax.axis(\"equal\")\n",
    "plt.show()"
   ]
  },
  {
   "cell_type": "code",
   "execution_count": null,
   "metadata": {
    "id": "abdI_kcLr4p1"
   },
   "outputs": [],
   "source": [
    "df_no_outlier[\"birch\"]=brc.predict(df_no_outlier_normalized)"
   ]
  },
  {
   "cell_type": "code",
   "execution_count": null,
   "metadata": {
    "colab": {
     "base_uri": "https://localhost:8080/",
     "height": 286
    },
    "id": "01E5w62oYOqa",
    "outputId": "3d034243-1223-45d9-b27a-389616b62c83"
   },
   "outputs": [],
   "source": [
    "df_mean_birch = df_no_outlier.drop(\"user_id\",1).groupby(\"birch\").mean()\n",
    "df_mean_birch"
   ]
  },
  {
   "cell_type": "code",
   "execution_count": null,
   "metadata": {
    "colab": {
     "base_uri": "https://localhost:8080/",
     "height": 286
    },
    "id": "dMV7RgkOYwWT",
    "outputId": "9c7163db-7e20-4fb8-dec0-3d49ccc2abb6"
   },
   "outputs": [],
   "source": [
    "df_mean_birch[\"size\"] = df_no_outlier.groupby(\"birch\").size()\n",
    "df_mean_birch"
   ]
  },
  {
   "cell_type": "code",
   "execution_count": null,
   "metadata": {
    "colab": {
     "base_uri": "https://localhost:8080/",
     "height": 512
    },
    "id": "7Ko78TCAcqK_",
    "outputId": "dba2c6df-cc68-4a91-fcc1-80fb34c1cc22"
   },
   "outputs": [],
   "source": [
    "labels = ['0','1','2','3','4','5']\n",
    "cnt_ord = df_mean_birch[\"count_orders_s\"]\n",
    "\n",
    "x = np.arange(len(labels))  # the label locations\n",
    "width = 0.5  # the width of the bars\n",
    "\n",
    "fig, ax = plt.subplots()\n",
    "rects1 = ax.bar(x, cnt_ord, width)\n",
    "\n",
    "# Add some text for labels, title and custom x-axis tick labels, etc.\n",
    "ax.set_ylabel('orders_s_count')\n",
    "ax.set_title('Birch - orders_s count')\n",
    "ax.set_xticks(x)\n",
    "ax.set_xticklabels(labels)\n",
    "ax.legend()\n",
    "\n",
    "ax.bar_label(rects1, padding=3)\n",
    "\n",
    "fig.tight_layout()\n",
    "\n",
    "plt.show()"
   ]
  },
  {
   "cell_type": "code",
   "execution_count": null,
   "metadata": {
    "colab": {
     "base_uri": "https://localhost:8080/",
     "height": 248
    },
    "id": "KQwYybf7ONDh",
    "outputId": "d7b7cdaa-bc44-4985-bc2a-4fa86a3afae5"
   },
   "outputs": [],
   "source": [
    "vals = df_mean_birch[\"size\"]\n",
    "labels = [\"one-time\", \"active\", \"loyal thrifty\", \"would-be clients\", \"one-time transition mobile\", \"one-time transition tablet\"]\n",
    "fig, ax = plt.subplots()\n",
    "ax.pie(vals, labels=labels, autopct='%1.1f%%',)\n",
    "ax.axis(\"equal\")\n",
    "plt.show()"
   ]
  },
  {
   "cell_type": "markdown",
   "metadata": {},
   "source": [
    "Код ниже нужен для записи результатов из Google Colab на Google Drive"
   ]
  },
  {
   "cell_type": "code",
   "execution_count": null,
   "metadata": {
    "colab": {
     "base_uri": "https://localhost:8080/"
    },
    "id": "IXShWxJeIh4E",
    "outputId": "07a6621d-ec7b-4ae5-8cb2-f31da64e6206"
   },
   "outputs": [],
   "source": [
    "from google.colab import drive\n",
    "drive.mount('drive')"
   ]
  },
  {
   "cell_type": "code",
   "execution_count": null,
   "metadata": {
    "id": "3apk7w1SzVCx"
   },
   "outputs": [],
   "source": [
    "df_no_outlier.to_csv('out.csv')\n",
    "!cp out.csv \"drive/My Drive/\""
   ]
  },
  {
   "cell_type": "code",
   "execution_count": null,
   "metadata": {
    "id": "nsx1-yFjItUw"
   },
   "outputs": [],
   "source": []
  }
 ],
 "metadata": {
  "colab": {
   "collapsed_sections": [],
   "name": "orders_clusters_last_(1).ipynb",
   "provenance": []
  },
  "kernelspec": {
   "display_name": "Python 3 (ipykernel)",
   "language": "python",
   "name": "python3"
  },
  "language_info": {
   "codemirror_mode": {
    "name": "ipython",
    "version": 3
   },
   "file_extension": ".py",
   "mimetype": "text/x-python",
   "name": "python",
   "nbconvert_exporter": "python",
   "pygments_lexer": "ipython3",
   "version": "3.9.7"
  }
 },
 "nbformat": 4,
 "nbformat_minor": 1
}
