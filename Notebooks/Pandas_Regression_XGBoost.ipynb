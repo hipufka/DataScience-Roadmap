{
 "cells": [
  {
   "cell_type": "markdown",
   "id": "a5b38d7e",
   "metadata": {},
   "source": [
    "## Libraries and helper  functions"
   ]
  },
  {
   "cell_type": "code",
   "execution_count": 1,
   "id": "a717ae2b",
   "metadata": {},
   "outputs": [],
   "source": [
    "import pandas as pd\n",
    "import numpy as np\n",
    "import matplotlib.pyplot as plt\n",
    "from sklearn.model_selection import train_test_split\n",
    "from sklearn.metrics import mean_squared_error, r2_score\n",
    "from sklearn.linear_model import LinearRegression\n",
    "from sklearn.ensemble import RandomForestRegressor\n",
    "import xgboost as xgb"
   ]
  },
  {
   "cell_type": "code",
   "execution_count": 2,
   "id": "f1eafc4d",
   "metadata": {},
   "outputs": [],
   "source": [
    "def reduce_mem_usage(df, verbose=True):\n",
    "    numerics = ['int16', 'int32', 'int64', 'float16', 'float32', 'float64']\n",
    "    start_mem = df.memory_usage().sum() / 1024 ** 2\n",
    "    for col in df.columns:\n",
    "        col_type = df[col].dtypes\n",
    "        if col_type in numerics:\n",
    "            c_min = df[col].min()\n",
    "            c_max = df[col].max()\n",
    "            if str(col_type).startswith('int'):\n",
    "                if c_min > np.iinfo(np.int8).min and c_max < np.iinfo(np.int8).max:\n",
    "                    df[col] = df[col].astype(np.int16)\n",
    "                elif c_min > np.iinfo(np.int16).min and c_max < np.iinfo(np.int16).max:\n",
    "                    df[col] = df[col].astype(np.int32)\n",
    "                elif c_min > np.iinfo(np.int32).min and c_max < np.iinfo(np.int32).max:\n",
    "                    df[col] = df[col].astype(np.int64)\n",
    "                elif c_min > np.iinfo(np.int64).min and c_max < np.iinfo(np.int64).max:\n",
    "                    df[col] = df[col].astype(np.int64)\n",
    "            else:\n",
    "                if c_min > np.finfo(np.float16).min and c_max < np.finfo(np.float16).max:\n",
    "                    df[col] = df[col].astype(np.float32)\n",
    "                elif c_min > np.finfo(np.float32).min and c_max < np.finfo(np.float32).max:\n",
    "                    df[col] = df[col].astype(np.float64)\n",
    "                else:\n",
    "                    df[col] = df[col].astype(np.float64)\n",
    "    end_mem = df.memory_usage().sum() / 1024 ** 2\n",
    "    if verbose:\n",
    "        print('Mem. usage decreased from {:5.2f} Mb to {:5.2f} Mb ({:.1f}% reduction)'.format(\n",
    "            start_mem, end_mem, 100 * (start_mem - end_mem) / start_mem\n",
    "        ))\n",
    "    return df"
   ]
  },
  {
   "cell_type": "markdown",
   "id": "b4e8788b",
   "metadata": {},
   "source": [
    "## Import data"
   ]
  },
  {
   "cell_type": "code",
   "execution_count": 3,
   "id": "3650e890",
   "metadata": {},
   "outputs": [
    {
     "data": {
      "text/html": [
       "<div>\n",
       "<style scoped>\n",
       "    .dataframe tbody tr th:only-of-type {\n",
       "        vertical-align: middle;\n",
       "    }\n",
       "\n",
       "    .dataframe tbody tr th {\n",
       "        vertical-align: top;\n",
       "    }\n",
       "\n",
       "    .dataframe thead th {\n",
       "        text-align: right;\n",
       "    }\n",
       "</style>\n",
       "<table border=\"1\" class=\"dataframe\">\n",
       "  <thead>\n",
       "    <tr style=\"text-align: right;\">\n",
       "      <th></th>\n",
       "      <th>Number of Records</th>\n",
       "      <th>contract_id</th>\n",
       "      <th>user</th>\n",
       "    </tr>\n",
       "  </thead>\n",
       "  <tbody>\n",
       "    <tr>\n",
       "      <th>0</th>\n",
       "      <td>1</td>\n",
       "      <td>f58dbbbe67142f3b6023965c7b9cc120</td>\n",
       "      <td>d13e08d3a4c660ab22ea011efe7285e7</td>\n",
       "    </tr>\n",
       "    <tr>\n",
       "      <th>1</th>\n",
       "      <td>1</td>\n",
       "      <td>30433a23c7e86d7e1de340d2c33f9a43</td>\n",
       "      <td>7045239ada9ce128b97e2ad8784560f5</td>\n",
       "    </tr>\n",
       "    <tr>\n",
       "      <th>2</th>\n",
       "      <td>1</td>\n",
       "      <td>001a8583feb1edfe7adcebddd55d90b7</td>\n",
       "      <td>1c39b5a73ef576c031b54d94ea6368e4</td>\n",
       "    </tr>\n",
       "    <tr>\n",
       "      <th>3</th>\n",
       "      <td>1</td>\n",
       "      <td>30433a23c7e86d7e1de340d2c33f9a43</td>\n",
       "      <td>b9e028301bd78ffd3f6a9df5eae869ab</td>\n",
       "    </tr>\n",
       "    <tr>\n",
       "      <th>4</th>\n",
       "      <td>1</td>\n",
       "      <td>f58dbbbe67142f3b6023965c7b9cc120</td>\n",
       "      <td>8ef669a72d2e7a356141381b83ef20a0</td>\n",
       "    </tr>\n",
       "  </tbody>\n",
       "</table>\n",
       "</div>"
      ],
      "text/plain": [
       "   Number of Records                       contract_id  \\\n",
       "0                  1  f58dbbbe67142f3b6023965c7b9cc120   \n",
       "1                  1  30433a23c7e86d7e1de340d2c33f9a43   \n",
       "2                  1  001a8583feb1edfe7adcebddd55d90b7   \n",
       "3                  1  30433a23c7e86d7e1de340d2c33f9a43   \n",
       "4                  1  f58dbbbe67142f3b6023965c7b9cc120   \n",
       "\n",
       "                               user  \n",
       "0  d13e08d3a4c660ab22ea011efe7285e7  \n",
       "1  7045239ada9ce128b97e2ad8784560f5  \n",
       "2  1c39b5a73ef576c031b54d94ea6368e4  \n",
       "3  b9e028301bd78ffd3f6a9df5eae869ab  \n",
       "4  8ef669a72d2e7a356141381b83ef20a0  "
      ]
     },
     "execution_count": 3,
     "metadata": {},
     "output_type": "execute_result"
    }
   ],
   "source": [
    "users = pd.read_csv(\"user_contract_id.csv\", sep=\";\")\n",
    "users.head(5)"
   ]
  },
  {
   "cell_type": "code",
   "execution_count": 4,
   "id": "869a7ed2",
   "metadata": {},
   "outputs": [
    {
     "data": {
      "text/html": [
       "<div>\n",
       "<style scoped>\n",
       "    .dataframe tbody tr th:only-of-type {\n",
       "        vertical-align: middle;\n",
       "    }\n",
       "\n",
       "    .dataframe tbody tr th {\n",
       "        vertical-align: top;\n",
       "    }\n",
       "\n",
       "    .dataframe thead th {\n",
       "        text-align: right;\n",
       "    }\n",
       "</style>\n",
       "<table border=\"1\" class=\"dataframe\">\n",
       "  <thead>\n",
       "    <tr style=\"text-align: right;\">\n",
       "      <th></th>\n",
       "      <th>Number of Records</th>\n",
       "      <th>contract_group</th>\n",
       "      <th>contract_id</th>\n",
       "      <th>contract_type</th>\n",
       "    </tr>\n",
       "  </thead>\n",
       "  <tbody>\n",
       "    <tr>\n",
       "      <th>0</th>\n",
       "      <td>1</td>\n",
       "      <td>4c87bee0a400e8da705eb82b601b8683</td>\n",
       "      <td>8836e9016d1077871a32cad80088cca4</td>\n",
       "      <td>787df3c929e166f3f27c5208e45c23d3</td>\n",
       "    </tr>\n",
       "    <tr>\n",
       "      <th>1</th>\n",
       "      <td>1</td>\n",
       "      <td>22c1b9370cdf0901047d3588b1c60eb0</td>\n",
       "      <td>2f57666897fc2c6c5b4728bfebe2311f</td>\n",
       "      <td>cbdaba5605992f8e1635ad782152d65a</td>\n",
       "    </tr>\n",
       "    <tr>\n",
       "      <th>2</th>\n",
       "      <td>1</td>\n",
       "      <td>22c1b9370cdf0901047d3588b1c60eb0</td>\n",
       "      <td>579025104268a96dca7d9e5544b7f4df</td>\n",
       "      <td>cbdaba5605992f8e1635ad782152d65a</td>\n",
       "    </tr>\n",
       "    <tr>\n",
       "      <th>3</th>\n",
       "      <td>1</td>\n",
       "      <td>4c87bee0a400e8da705eb82b601b8683</td>\n",
       "      <td>609bc1c1cc44a4b7bd43d3ae90061437</td>\n",
       "      <td>787df3c929e166f3f27c5208e45c23d3</td>\n",
       "    </tr>\n",
       "    <tr>\n",
       "      <th>4</th>\n",
       "      <td>1</td>\n",
       "      <td>4c87bee0a400e8da705eb82b601b8683</td>\n",
       "      <td>49f54d6ff987b0bff16ea532097ea611</td>\n",
       "      <td>787df3c929e166f3f27c5208e45c23d3</td>\n",
       "    </tr>\n",
       "  </tbody>\n",
       "</table>\n",
       "</div>"
      ],
      "text/plain": [
       "   Number of Records                    contract_group  \\\n",
       "0                  1  4c87bee0a400e8da705eb82b601b8683   \n",
       "1                  1  22c1b9370cdf0901047d3588b1c60eb0   \n",
       "2                  1  22c1b9370cdf0901047d3588b1c60eb0   \n",
       "3                  1  4c87bee0a400e8da705eb82b601b8683   \n",
       "4                  1  4c87bee0a400e8da705eb82b601b8683   \n",
       "\n",
       "                        contract_id                     contract_type  \n",
       "0  8836e9016d1077871a32cad80088cca4  787df3c929e166f3f27c5208e45c23d3  \n",
       "1  2f57666897fc2c6c5b4728bfebe2311f  cbdaba5605992f8e1635ad782152d65a  \n",
       "2  579025104268a96dca7d9e5544b7f4df  cbdaba5605992f8e1635ad782152d65a  \n",
       "3  609bc1c1cc44a4b7bd43d3ae90061437  787df3c929e166f3f27c5208e45c23d3  \n",
       "4  49f54d6ff987b0bff16ea532097ea611  787df3c929e166f3f27c5208e45c23d3  "
      ]
     },
     "execution_count": 4,
     "metadata": {},
     "output_type": "execute_result"
    }
   ],
   "source": [
    "contracts = pd.read_csv(\"contracts_data.csv\", sep=\";\")\n",
    "contracts.head(5)"
   ]
  },
  {
   "cell_type": "code",
   "execution_count": 5,
   "id": "846058f5",
   "metadata": {},
   "outputs": [
    {
     "name": "stderr",
     "output_type": "stream",
     "text": [
      "/home/anna/anaconda3/lib/python3.9/site-packages/IPython/core/interactiveshell.py:3444: DtypeWarning: Columns (8) have mixed types.Specify dtype option on import or set low_memory=False.\n",
      "  exec(code_obj, self.user_global_ns, self.user_ns)\n"
     ]
    },
    {
     "data": {
      "text/html": [
       "<div>\n",
       "<style scoped>\n",
       "    .dataframe tbody tr th:only-of-type {\n",
       "        vertical-align: middle;\n",
       "    }\n",
       "\n",
       "    .dataframe tbody tr th {\n",
       "        vertical-align: top;\n",
       "    }\n",
       "\n",
       "    .dataframe thead th {\n",
       "        text-align: right;\n",
       "    }\n",
       "</style>\n",
       "<table border=\"1\" class=\"dataframe\">\n",
       "  <thead>\n",
       "    <tr style=\"text-align: right;\">\n",
       "      <th></th>\n",
       "      <th>Number of Records</th>\n",
       "      <th>avg_cost_per_reg</th>\n",
       "      <th>cid_tds</th>\n",
       "      <th>geo</th>\n",
       "      <th>group_user</th>\n",
       "      <th>impression</th>\n",
       "      <th>ispay</th>\n",
       "      <th>log_id</th>\n",
       "      <th>payout</th>\n",
       "      <th>project_id</th>\n",
       "      <th>ts</th>\n",
       "      <th>user</th>\n",
       "      <th>zoneid</th>\n",
       "    </tr>\n",
       "  </thead>\n",
       "  <tbody>\n",
       "    <tr>\n",
       "      <th>0</th>\n",
       "      <td>1</td>\n",
       "      <td>38,76314</td>\n",
       "      <td>1538631046687qbbcmpvf</td>\n",
       "      <td>US</td>\n",
       "      <td>8-30day</td>\n",
       "      <td>8</td>\n",
       "      <td>no</td>\n",
       "      <td>7f94ea1342f65023fa20290c1e641c5f</td>\n",
       "      <td>NaN</td>\n",
       "      <td>2.0</td>\n",
       "      <td>1538631046</td>\n",
       "      <td>d92631fa78a80606dee1ecf22ff7d51f</td>\n",
       "      <td>180</td>\n",
       "    </tr>\n",
       "    <tr>\n",
       "      <th>1</th>\n",
       "      <td>1</td>\n",
       "      <td>38,76314</td>\n",
       "      <td>1538135942855masphqkt</td>\n",
       "      <td>US</td>\n",
       "      <td>8-30day</td>\n",
       "      <td>5</td>\n",
       "      <td>no</td>\n",
       "      <td>e6467d039b4e0ac99f7463eb5da2a612</td>\n",
       "      <td>NaN</td>\n",
       "      <td>2.0</td>\n",
       "      <td>1538135942</td>\n",
       "      <td>23f5c8d16b383f932e3ad73546b45166</td>\n",
       "      <td>7</td>\n",
       "    </tr>\n",
       "    <tr>\n",
       "      <th>2</th>\n",
       "      <td>1</td>\n",
       "      <td>38,76314</td>\n",
       "      <td>1537798087995wogywfsp</td>\n",
       "      <td>US</td>\n",
       "      <td>5day</td>\n",
       "      <td>4</td>\n",
       "      <td>no</td>\n",
       "      <td>e6467d039b4e0ac99f7463eb5da2a612</td>\n",
       "      <td>NaN</td>\n",
       "      <td>2.0</td>\n",
       "      <td>1537798087</td>\n",
       "      <td>23f5c8d16b383f932e3ad73546b45166</td>\n",
       "      <td>8</td>\n",
       "    </tr>\n",
       "    <tr>\n",
       "      <th>3</th>\n",
       "      <td>1</td>\n",
       "      <td>38,76314</td>\n",
       "      <td>1538328459891ssrypjnx</td>\n",
       "      <td>US</td>\n",
       "      <td>0day</td>\n",
       "      <td>1</td>\n",
       "      <td>no</td>\n",
       "      <td>e6467d039b4e0ac99f7463eb5da2a612</td>\n",
       "      <td>NaN</td>\n",
       "      <td>2.0</td>\n",
       "      <td>1538328459</td>\n",
       "      <td>122b1d81bcb352d38a5ed29132e37f5d</td>\n",
       "      <td>215</td>\n",
       "    </tr>\n",
       "    <tr>\n",
       "      <th>4</th>\n",
       "      <td>1</td>\n",
       "      <td>38,76314</td>\n",
       "      <td>1537656220532wamztscd</td>\n",
       "      <td>GB</td>\n",
       "      <td>0day</td>\n",
       "      <td>1</td>\n",
       "      <td>no</td>\n",
       "      <td>e6467d039b4e0ac99f7463eb5da2a612</td>\n",
       "      <td>NaN</td>\n",
       "      <td>2.0</td>\n",
       "      <td>1537656220</td>\n",
       "      <td>50d8db7813038ca01b6d2c311988d679</td>\n",
       "      <td>11</td>\n",
       "    </tr>\n",
       "  </tbody>\n",
       "</table>\n",
       "</div>"
      ],
      "text/plain": [
       "   Number of Records avg_cost_per_reg                cid_tds geo group_user  \\\n",
       "0                  1         38,76314  1538631046687qbbcmpvf  US    8-30day   \n",
       "1                  1         38,76314  1538135942855masphqkt  US    8-30day   \n",
       "2                  1         38,76314  1537798087995wogywfsp  US       5day   \n",
       "3                  1         38,76314  1538328459891ssrypjnx  US       0day   \n",
       "4                  1         38,76314  1537656220532wamztscd  GB       0day   \n",
       "\n",
       "   impression ispay                            log_id payout  project_id  \\\n",
       "0           8    no  7f94ea1342f65023fa20290c1e641c5f    NaN         2.0   \n",
       "1           5    no  e6467d039b4e0ac99f7463eb5da2a612    NaN         2.0   \n",
       "2           4    no  e6467d039b4e0ac99f7463eb5da2a612    NaN         2.0   \n",
       "3           1    no  e6467d039b4e0ac99f7463eb5da2a612    NaN         2.0   \n",
       "4           1    no  e6467d039b4e0ac99f7463eb5da2a612    NaN         2.0   \n",
       "\n",
       "           ts                              user  zoneid  \n",
       "0  1538631046  d92631fa78a80606dee1ecf22ff7d51f     180  \n",
       "1  1538135942  23f5c8d16b383f932e3ad73546b45166       7  \n",
       "2  1537798087  23f5c8d16b383f932e3ad73546b45166       8  \n",
       "3  1538328459  122b1d81bcb352d38a5ed29132e37f5d     215  \n",
       "4  1537656220  50d8db7813038ca01b6d2c311988d679      11  "
      ]
     },
     "execution_count": 5,
     "metadata": {},
     "output_type": "execute_result"
    }
   ],
   "source": [
    "banner_data = pd.read_csv(\"DS_test_Revenue_estimate.csv\", sep=\";\")\n",
    "banner_data.head(5)"
   ]
  },
  {
   "cell_type": "markdown",
   "id": "df1910a7",
   "metadata": {},
   "source": [
    "## Preprocessing"
   ]
  },
  {
   "cell_type": "code",
   "execution_count": 6,
   "id": "ce730bbc",
   "metadata": {},
   "outputs": [
    {
     "data": {
      "text/plain": [
       "(605907, 3)"
      ]
     },
     "execution_count": 6,
     "metadata": {},
     "output_type": "execute_result"
    }
   ],
   "source": [
    "users.shape"
   ]
  },
  {
   "cell_type": "code",
   "execution_count": 7,
   "id": "abf0dab7",
   "metadata": {},
   "outputs": [
    {
     "data": {
      "text/plain": [
       "(605907, 2)"
      ]
     },
     "execution_count": 7,
     "metadata": {},
     "output_type": "execute_result"
    }
   ],
   "source": [
    "users = users.drop(['Number of Records'], axis=1)\n",
    "users['user'] = users['user'].apply(int, base=16)\n",
    "users['user'] = pd.to_numeric(users['user'], errors='coerce')\n",
    "users.shape"
   ]
  },
  {
   "cell_type": "code",
   "execution_count": 8,
   "id": "8e710254",
   "metadata": {},
   "outputs": [],
   "source": [
    "contracts = contracts.drop(['Number of Records'], axis=1)"
   ]
  },
  {
   "cell_type": "code",
   "execution_count": 9,
   "id": "a0fbcbb5",
   "metadata": {},
   "outputs": [
    {
     "data": {
      "text/plain": [
       "(32918966, 13)"
      ]
     },
     "execution_count": 9,
     "metadata": {},
     "output_type": "execute_result"
    }
   ],
   "source": [
    "banner_data['user'] = banner_data['user'].apply(int, base=16)\n",
    "banner_data['user'] = pd.to_numeric(banner_data['user'], errors='coerce')\n",
    "banner_data.shape"
   ]
  },
  {
   "cell_type": "code",
   "execution_count": 10,
   "id": "ea77b352",
   "metadata": {},
   "outputs": [
    {
     "data": {
      "text/html": [
       "<div>\n",
       "<style scoped>\n",
       "    .dataframe tbody tr th:only-of-type {\n",
       "        vertical-align: middle;\n",
       "    }\n",
       "\n",
       "    .dataframe tbody tr th {\n",
       "        vertical-align: top;\n",
       "    }\n",
       "\n",
       "    .dataframe thead th {\n",
       "        text-align: right;\n",
       "    }\n",
       "</style>\n",
       "<table border=\"1\" class=\"dataframe\">\n",
       "  <thead>\n",
       "    <tr style=\"text-align: right;\">\n",
       "      <th></th>\n",
       "      <th>cid_tds</th>\n",
       "    </tr>\n",
       "    <tr>\n",
       "      <th>payout</th>\n",
       "      <th></th>\n",
       "    </tr>\n",
       "  </thead>\n",
       "  <tbody>\n",
       "    <tr>\n",
       "      <th>0</th>\n",
       "      <td>5036</td>\n",
       "    </tr>\n",
       "    <tr>\n",
       "      <th>0,3652</th>\n",
       "      <td>84</td>\n",
       "    </tr>\n",
       "    <tr>\n",
       "      <th>0,5478</th>\n",
       "      <td>30</td>\n",
       "    </tr>\n",
       "    <tr>\n",
       "      <th>0,7304</th>\n",
       "      <td>5</td>\n",
       "    </tr>\n",
       "    <tr>\n",
       "      <th>0,913</th>\n",
       "      <td>6</td>\n",
       "    </tr>\n",
       "    <tr>\n",
       "      <th>...</th>\n",
       "      <td>...</td>\n",
       "    </tr>\n",
       "    <tr>\n",
       "      <th>95,865</th>\n",
       "      <td>3</td>\n",
       "    </tr>\n",
       "    <tr>\n",
       "      <th>97,691</th>\n",
       "      <td>2</td>\n",
       "    </tr>\n",
       "    <tr>\n",
       "      <th>97,8736</th>\n",
       "      <td>2</td>\n",
       "    </tr>\n",
       "    <tr>\n",
       "      <th>98,604</th>\n",
       "      <td>63</td>\n",
       "    </tr>\n",
       "    <tr>\n",
       "      <th>99,805508</th>\n",
       "      <td>2</td>\n",
       "    </tr>\n",
       "  </tbody>\n",
       "</table>\n",
       "<p>387 rows × 1 columns</p>\n",
       "</div>"
      ],
      "text/plain": [
       "           cid_tds\n",
       "payout            \n",
       "0             5036\n",
       "0,3652          84\n",
       "0,5478          30\n",
       "0,7304           5\n",
       "0,913            6\n",
       "...            ...\n",
       "95,865           3\n",
       "97,691           2\n",
       "97,8736          2\n",
       "98,604          63\n",
       "99,805508        2\n",
       "\n",
       "[387 rows x 1 columns]"
      ]
     },
     "execution_count": 10,
     "metadata": {},
     "output_type": "execute_result"
    }
   ],
   "source": [
    "payout_groups = banner_data[['payout','cid_tds']].groupby('payout').count()\n",
    "payout_groups"
   ]
  },
  {
   "cell_type": "code",
   "execution_count": 11,
   "id": "a224e19b",
   "metadata": {},
   "outputs": [],
   "source": [
    "banner_data['payout_num'] = pd.to_numeric(banner_data['payout'].str.replace(',','.'))"
   ]
  },
  {
   "cell_type": "code",
   "execution_count": 12,
   "id": "261b26e5",
   "metadata": {},
   "outputs": [
    {
     "data": {
      "text/html": [
       "<div>\n",
       "<style scoped>\n",
       "    .dataframe tbody tr th:only-of-type {\n",
       "        vertical-align: middle;\n",
       "    }\n",
       "\n",
       "    .dataframe tbody tr th {\n",
       "        vertical-align: top;\n",
       "    }\n",
       "\n",
       "    .dataframe thead th {\n",
       "        text-align: right;\n",
       "    }\n",
       "</style>\n",
       "<table border=\"1\" class=\"dataframe\">\n",
       "  <thead>\n",
       "    <tr style=\"text-align: right;\">\n",
       "      <th></th>\n",
       "      <th>cid_tds</th>\n",
       "    </tr>\n",
       "    <tr>\n",
       "      <th>payout_num</th>\n",
       "      <th></th>\n",
       "    </tr>\n",
       "  </thead>\n",
       "  <tbody>\n",
       "    <tr>\n",
       "      <th>0.000000</th>\n",
       "      <td>5036</td>\n",
       "    </tr>\n",
       "    <tr>\n",
       "      <th>0.365200</th>\n",
       "      <td>84</td>\n",
       "    </tr>\n",
       "    <tr>\n",
       "      <th>0.547800</th>\n",
       "      <td>30</td>\n",
       "    </tr>\n",
       "    <tr>\n",
       "      <th>0.730400</th>\n",
       "      <td>5</td>\n",
       "    </tr>\n",
       "    <tr>\n",
       "      <th>0.913000</th>\n",
       "      <td>6</td>\n",
       "    </tr>\n",
       "    <tr>\n",
       "      <th>...</th>\n",
       "      <td>...</td>\n",
       "    </tr>\n",
       "    <tr>\n",
       "      <th>1462.344796</th>\n",
       "      <td>2</td>\n",
       "    </tr>\n",
       "    <tr>\n",
       "      <th>1552.100000</th>\n",
       "      <td>13</td>\n",
       "    </tr>\n",
       "    <tr>\n",
       "      <th>1826.000000</th>\n",
       "      <td>13</td>\n",
       "    </tr>\n",
       "    <tr>\n",
       "      <th>1827.888084</th>\n",
       "      <td>1</td>\n",
       "    </tr>\n",
       "    <tr>\n",
       "      <th>1848.825000</th>\n",
       "      <td>2</td>\n",
       "    </tr>\n",
       "  </tbody>\n",
       "</table>\n",
       "<p>387 rows × 1 columns</p>\n",
       "</div>"
      ],
      "text/plain": [
       "             cid_tds\n",
       "payout_num          \n",
       "0.000000        5036\n",
       "0.365200          84\n",
       "0.547800          30\n",
       "0.730400           5\n",
       "0.913000           6\n",
       "...              ...\n",
       "1462.344796        2\n",
       "1552.100000       13\n",
       "1826.000000       13\n",
       "1827.888084        1\n",
       "1848.825000        2\n",
       "\n",
       "[387 rows x 1 columns]"
      ]
     },
     "execution_count": 12,
     "metadata": {},
     "output_type": "execute_result"
    }
   ],
   "source": [
    "payout_groups_2 = banner_data[['payout_num','cid_tds']].groupby('payout_num').count()\n",
    "payout_groups_2"
   ]
  },
  {
   "cell_type": "code",
   "execution_count": 13,
   "id": "7dbcc9d3",
   "metadata": {},
   "outputs": [
    {
     "name": "stdout",
     "output_type": "stream",
     "text": [
      "<class 'pandas.core.frame.DataFrame'>\n",
      "RangeIndex: 32918966 entries, 0 to 32918965\n",
      "Data columns (total 14 columns):\n",
      " #   Column             Dtype  \n",
      "---  ------             -----  \n",
      " 0   Number of Records  int64  \n",
      " 1   avg_cost_per_reg   object \n",
      " 2   cid_tds            object \n",
      " 3   geo                object \n",
      " 4   group_user         object \n",
      " 5   impression         int64  \n",
      " 6   ispay              object \n",
      " 7   log_id             object \n",
      " 8   payout             object \n",
      " 9   project_id         float64\n",
      " 10  ts                 int64  \n",
      " 11  user               float64\n",
      " 12  zoneid             int64  \n",
      " 13  payout_num         float64\n",
      "dtypes: float64(3), int64(4), object(7)\n",
      "memory usage: 3.4+ GB\n"
     ]
    }
   ],
   "source": [
    "banner_data.info()"
   ]
  },
  {
   "cell_type": "code",
   "execution_count": 14,
   "id": "b467eaf6",
   "metadata": {},
   "outputs": [],
   "source": [
    "banner_data['ispay_num'] = np.where(banner_data['ispay']=='is',1,0)"
   ]
  },
  {
   "cell_type": "markdown",
   "id": "e73af227",
   "metadata": {},
   "source": [
    "Let's take a look at number of unique values in variables which are candidates to one-hot encoding."
   ]
  },
  {
   "cell_type": "markdown",
   "id": "41bafbf9",
   "metadata": {},
   "source": [
    "'Geo' variable contains too much unique values for one-hot encoding. Other variables can be one-hot encoded."
   ]
  },
  {
   "cell_type": "markdown",
   "id": "e7f5e602",
   "metadata": {},
   "source": [
    "'Payout' (our dependent variable) also contains too many values for the multi-class classification, so we have regression problem. "
   ]
  },
  {
   "cell_type": "code",
   "execution_count": 15,
   "id": "fa84e15e",
   "metadata": {},
   "outputs": [],
   "source": [
    "banner_data = banner_data.drop(['Number of Records','log_id','avg_cost_per_reg','ispay','geo','payout'], axis=1)"
   ]
  },
  {
   "cell_type": "code",
   "execution_count": 16,
   "id": "5972e134",
   "metadata": {},
   "outputs": [
    {
     "name": "stdout",
     "output_type": "stream",
     "text": [
      "Mem. usage decreased from 2260.37 Mb to 1695.27 Mb (25.0% reduction)\n"
     ]
    },
    {
     "data": {
      "text/html": [
       "<div>\n",
       "<style scoped>\n",
       "    .dataframe tbody tr th:only-of-type {\n",
       "        vertical-align: middle;\n",
       "    }\n",
       "\n",
       "    .dataframe tbody tr th {\n",
       "        vertical-align: top;\n",
       "    }\n",
       "\n",
       "    .dataframe thead th {\n",
       "        text-align: right;\n",
       "    }\n",
       "</style>\n",
       "<table border=\"1\" class=\"dataframe\">\n",
       "  <thead>\n",
       "    <tr style=\"text-align: right;\">\n",
       "      <th></th>\n",
       "      <th>cid_tds</th>\n",
       "      <th>group_user</th>\n",
       "      <th>impression</th>\n",
       "      <th>project_id</th>\n",
       "      <th>ts</th>\n",
       "      <th>user</th>\n",
       "      <th>zoneid</th>\n",
       "      <th>payout_num</th>\n",
       "      <th>ispay_num</th>\n",
       "    </tr>\n",
       "  </thead>\n",
       "  <tbody>\n",
       "    <tr>\n",
       "      <th>0</th>\n",
       "      <td>1538631046687qbbcmpvf</td>\n",
       "      <td>8-30day</td>\n",
       "      <td>8</td>\n",
       "      <td>2.0</td>\n",
       "      <td>1538631046</td>\n",
       "      <td>2.886408e+38</td>\n",
       "      <td>180</td>\n",
       "      <td>NaN</td>\n",
       "      <td>0</td>\n",
       "    </tr>\n",
       "    <tr>\n",
       "      <th>1</th>\n",
       "      <td>1538135942855masphqkt</td>\n",
       "      <td>8-30day</td>\n",
       "      <td>5</td>\n",
       "      <td>2.0</td>\n",
       "      <td>1538135942</td>\n",
       "      <td>4.779917e+37</td>\n",
       "      <td>7</td>\n",
       "      <td>NaN</td>\n",
       "      <td>0</td>\n",
       "    </tr>\n",
       "    <tr>\n",
       "      <th>2</th>\n",
       "      <td>1537798087995wogywfsp</td>\n",
       "      <td>5day</td>\n",
       "      <td>4</td>\n",
       "      <td>2.0</td>\n",
       "      <td>1537798087</td>\n",
       "      <td>4.779917e+37</td>\n",
       "      <td>8</td>\n",
       "      <td>NaN</td>\n",
       "      <td>0</td>\n",
       "    </tr>\n",
       "    <tr>\n",
       "      <th>3</th>\n",
       "      <td>1538328459891ssrypjnx</td>\n",
       "      <td>0day</td>\n",
       "      <td>1</td>\n",
       "      <td>2.0</td>\n",
       "      <td>1538328459</td>\n",
       "      <td>2.414997e+37</td>\n",
       "      <td>215</td>\n",
       "      <td>NaN</td>\n",
       "      <td>0</td>\n",
       "    </tr>\n",
       "    <tr>\n",
       "      <th>4</th>\n",
       "      <td>1537656220532wamztscd</td>\n",
       "      <td>0day</td>\n",
       "      <td>1</td>\n",
       "      <td>2.0</td>\n",
       "      <td>1537656220</td>\n",
       "      <td>1.074642e+38</td>\n",
       "      <td>11</td>\n",
       "      <td>NaN</td>\n",
       "      <td>0</td>\n",
       "    </tr>\n",
       "    <tr>\n",
       "      <th>...</th>\n",
       "      <td>...</td>\n",
       "      <td>...</td>\n",
       "      <td>...</td>\n",
       "      <td>...</td>\n",
       "      <td>...</td>\n",
       "      <td>...</td>\n",
       "      <td>...</td>\n",
       "      <td>...</td>\n",
       "      <td>...</td>\n",
       "    </tr>\n",
       "    <tr>\n",
       "      <th>32918961</th>\n",
       "      <td>1538197982122mlxrvjgv</td>\n",
       "      <td>8-30day</td>\n",
       "      <td>447</td>\n",
       "      <td>2.0</td>\n",
       "      <td>1538197982</td>\n",
       "      <td>1.839832e+38</td>\n",
       "      <td>215</td>\n",
       "      <td>NaN</td>\n",
       "      <td>0</td>\n",
       "    </tr>\n",
       "    <tr>\n",
       "      <th>32918962</th>\n",
       "      <td>1538198085129gydqzlsq</td>\n",
       "      <td>8-30day</td>\n",
       "      <td>452</td>\n",
       "      <td>2.0</td>\n",
       "      <td>1538198085</td>\n",
       "      <td>1.839832e+38</td>\n",
       "      <td>215</td>\n",
       "      <td>NaN</td>\n",
       "      <td>0</td>\n",
       "    </tr>\n",
       "    <tr>\n",
       "      <th>32918963</th>\n",
       "      <td>1538222182321oxgdazoa</td>\n",
       "      <td>8-30day</td>\n",
       "      <td>719</td>\n",
       "      <td>2.0</td>\n",
       "      <td>1538222182</td>\n",
       "      <td>1.839832e+38</td>\n",
       "      <td>215</td>\n",
       "      <td>NaN</td>\n",
       "      <td>0</td>\n",
       "    </tr>\n",
       "    <tr>\n",
       "      <th>32918964</th>\n",
       "      <td>1538221516473vucwhxwx</td>\n",
       "      <td>8-30day</td>\n",
       "      <td>654</td>\n",
       "      <td>2.0</td>\n",
       "      <td>1538221516</td>\n",
       "      <td>1.839832e+38</td>\n",
       "      <td>1</td>\n",
       "      <td>NaN</td>\n",
       "      <td>0</td>\n",
       "    </tr>\n",
       "    <tr>\n",
       "      <th>32918965</th>\n",
       "      <td>1538221518792ylfzzfli</td>\n",
       "      <td>8-30day</td>\n",
       "      <td>655</td>\n",
       "      <td>2.0</td>\n",
       "      <td>1538221518</td>\n",
       "      <td>1.839832e+38</td>\n",
       "      <td>1</td>\n",
       "      <td>NaN</td>\n",
       "      <td>0</td>\n",
       "    </tr>\n",
       "  </tbody>\n",
       "</table>\n",
       "<p>32918966 rows × 9 columns</p>\n",
       "</div>"
      ],
      "text/plain": [
       "                        cid_tds group_user  impression  project_id  \\\n",
       "0         1538631046687qbbcmpvf    8-30day           8         2.0   \n",
       "1         1538135942855masphqkt    8-30day           5         2.0   \n",
       "2         1537798087995wogywfsp       5day           4         2.0   \n",
       "3         1538328459891ssrypjnx       0day           1         2.0   \n",
       "4         1537656220532wamztscd       0day           1         2.0   \n",
       "...                         ...        ...         ...         ...   \n",
       "32918961  1538197982122mlxrvjgv    8-30day         447         2.0   \n",
       "32918962  1538198085129gydqzlsq    8-30day         452         2.0   \n",
       "32918963  1538222182321oxgdazoa    8-30day         719         2.0   \n",
       "32918964  1538221516473vucwhxwx    8-30day         654         2.0   \n",
       "32918965  1538221518792ylfzzfli    8-30day         655         2.0   \n",
       "\n",
       "                  ts          user  zoneid  payout_num  ispay_num  \n",
       "0         1538631046  2.886408e+38     180         NaN          0  \n",
       "1         1538135942  4.779917e+37       7         NaN          0  \n",
       "2         1537798087  4.779917e+37       8         NaN          0  \n",
       "3         1538328459  2.414997e+37     215         NaN          0  \n",
       "4         1537656220  1.074642e+38      11         NaN          0  \n",
       "...              ...           ...     ...         ...        ...  \n",
       "32918961  1538197982  1.839832e+38     215         NaN          0  \n",
       "32918962  1538198085  1.839832e+38     215         NaN          0  \n",
       "32918963  1538222182  1.839832e+38     215         NaN          0  \n",
       "32918964  1538221516  1.839832e+38       1         NaN          0  \n",
       "32918965  1538221518  1.839832e+38       1         NaN          0  \n",
       "\n",
       "[32918966 rows x 9 columns]"
      ]
     },
     "execution_count": 16,
     "metadata": {},
     "output_type": "execute_result"
    }
   ],
   "source": [
    "reduce_mem_usage(banner_data)"
   ]
  },
  {
   "cell_type": "code",
   "execution_count": 17,
   "id": "f548b772",
   "metadata": {},
   "outputs": [
    {
     "name": "stdout",
     "output_type": "stream",
     "text": [
      "<class 'pandas.core.frame.DataFrame'>\n",
      "RangeIndex: 605907 entries, 0 to 605906\n",
      "Data columns (total 2 columns):\n",
      " #   Column       Non-Null Count   Dtype  \n",
      "---  ------       --------------   -----  \n",
      " 0   contract_id  605881 non-null  object \n",
      " 1   user         605907 non-null  float64\n",
      "dtypes: float64(1), object(1)\n",
      "memory usage: 9.2+ MB\n"
     ]
    }
   ],
   "source": [
    "users.info()"
   ]
  },
  {
   "cell_type": "code",
   "execution_count": 18,
   "id": "60aef535",
   "metadata": {},
   "outputs": [
    {
     "name": "stdout",
     "output_type": "stream",
     "text": [
      "<class 'pandas.core.frame.DataFrame'>\n",
      "RangeIndex: 967 entries, 0 to 966\n",
      "Data columns (total 3 columns):\n",
      " #   Column          Non-Null Count  Dtype \n",
      "---  ------          --------------  ----- \n",
      " 0   contract_group  959 non-null    object\n",
      " 1   contract_id     959 non-null    object\n",
      " 2   contract_type   959 non-null    object\n",
      "dtypes: object(3)\n",
      "memory usage: 22.8+ KB\n"
     ]
    }
   ],
   "source": [
    "contracts.info()"
   ]
  },
  {
   "cell_type": "code",
   "execution_count": 19,
   "id": "e0731d9f",
   "metadata": {},
   "outputs": [
    {
     "name": "stdout",
     "output_type": "stream",
     "text": [
      "<class 'pandas.core.frame.DataFrame'>\n",
      "RangeIndex: 32918966 entries, 0 to 32918965\n",
      "Data columns (total 9 columns):\n",
      " #   Column      Dtype  \n",
      "---  ------      -----  \n",
      " 0   cid_tds     object \n",
      " 1   group_user  object \n",
      " 2   impression  int64  \n",
      " 3   project_id  float32\n",
      " 4   ts          int64  \n",
      " 5   user        float64\n",
      " 6   zoneid      int32  \n",
      " 7   payout_num  float32\n",
      " 8   ispay_num   int16  \n",
      "dtypes: float32(2), float64(1), int16(1), int32(1), int64(2), object(2)\n",
      "memory usage: 1.7+ GB\n"
     ]
    }
   ],
   "source": [
    "banner_data.info()"
   ]
  },
  {
   "cell_type": "markdown",
   "id": "8d854197",
   "metadata": {},
   "source": [
    "### Clean data"
   ]
  },
  {
   "cell_type": "markdown",
   "id": "4b54cfca",
   "metadata": {},
   "source": [
    "Drop rows in table \"Contracts\" with missing contract_id, since they do not give any information to us."
   ]
  },
  {
   "cell_type": "code",
   "execution_count": 20,
   "id": "7020ac26",
   "metadata": {},
   "outputs": [
    {
     "name": "stdout",
     "output_type": "stream",
     "text": [
      "<class 'pandas.core.frame.DataFrame'>\n",
      "Int64Index: 959 entries, 0 to 964\n",
      "Data columns (total 3 columns):\n",
      " #   Column          Non-Null Count  Dtype \n",
      "---  ------          --------------  ----- \n",
      " 0   contract_group  959 non-null    object\n",
      " 1   contract_id     959 non-null    object\n",
      " 2   contract_type   959 non-null    object\n",
      "dtypes: object(3)\n",
      "memory usage: 30.0+ KB\n"
     ]
    }
   ],
   "source": [
    "contracts = contracts.dropna()\n",
    "contracts.info()"
   ]
  },
  {
   "cell_type": "code",
   "execution_count": 21,
   "id": "037601ff",
   "metadata": {},
   "outputs": [
    {
     "data": {
      "text/plain": [
       "(605907, 2)"
      ]
     },
     "execution_count": 21,
     "metadata": {},
     "output_type": "execute_result"
    }
   ],
   "source": [
    "users.shape"
   ]
  },
  {
   "cell_type": "code",
   "execution_count": 22,
   "id": "3cb00c76",
   "metadata": {},
   "outputs": [
    {
     "data": {
      "text/plain": [
       "(605896, 2)"
      ]
     },
     "execution_count": 22,
     "metadata": {},
     "output_type": "execute_result"
    }
   ],
   "source": [
    "users.drop_duplicates(ignore_index=True, inplace=True, subset=['user'], keep='last')\n",
    "users.shape"
   ]
  },
  {
   "cell_type": "code",
   "execution_count": 23,
   "id": "61aa8ea9",
   "metadata": {},
   "outputs": [
    {
     "data": {
      "text/plain": [
       "(959, 3)"
      ]
     },
     "execution_count": 23,
     "metadata": {},
     "output_type": "execute_result"
    }
   ],
   "source": [
    "contracts.drop_duplicates(ignore_index=True, inplace=True, subset=['contract_id', 'contract_type'], keep='last')\n",
    "contracts.shape"
   ]
  },
  {
   "cell_type": "code",
   "execution_count": 24,
   "id": "e7442359",
   "metadata": {},
   "outputs": [
    {
     "data": {
      "text/plain": [
       "contract_group    126\n",
       "contract_id       959\n",
       "contract_type       9\n",
       "dtype: int64"
      ]
     },
     "execution_count": 24,
     "metadata": {},
     "output_type": "execute_result"
    }
   ],
   "source": [
    "contracts.nunique()"
   ]
  },
  {
   "cell_type": "markdown",
   "id": "0f586cdf",
   "metadata": {},
   "source": [
    "Contract_type variable can be one-hot encoded. Let's add it to dataset."
   ]
  },
  {
   "cell_type": "code",
   "execution_count": 25,
   "id": "1bb8bc14",
   "metadata": {},
   "outputs": [
    {
     "data": {
      "text/plain": [
       "(605870, 2)"
      ]
     },
     "execution_count": 25,
     "metadata": {},
     "output_type": "execute_result"
    }
   ],
   "source": [
    "users_in_contracts = contracts.merge(users, how='inner', on='contract_id')\n",
    "users_in_contracts = users_in_contracts.drop(['contract_id','contract_group'], axis=1)\n",
    "users_in_contracts.shape"
   ]
  },
  {
   "cell_type": "code",
   "execution_count": 26,
   "id": "d143b6f9",
   "metadata": {},
   "outputs": [],
   "source": [
    "banner_data = banner_data.merge(users_in_contracts, how='left', on='user')"
   ]
  },
  {
   "cell_type": "markdown",
   "id": "681387db",
   "metadata": {},
   "source": [
    "## Exploratory data analysis and feature design"
   ]
  },
  {
   "cell_type": "code",
   "execution_count": 27,
   "id": "537e7c3a",
   "metadata": {},
   "outputs": [
    {
     "data": {
      "text/html": [
       "<div>\n",
       "<style scoped>\n",
       "    .dataframe tbody tr th:only-of-type {\n",
       "        vertical-align: middle;\n",
       "    }\n",
       "\n",
       "    .dataframe tbody tr th {\n",
       "        vertical-align: top;\n",
       "    }\n",
       "\n",
       "    .dataframe thead th {\n",
       "        text-align: right;\n",
       "    }\n",
       "</style>\n",
       "<table border=\"1\" class=\"dataframe\">\n",
       "  <thead>\n",
       "    <tr style=\"text-align: right;\">\n",
       "      <th></th>\n",
       "      <th>cid_tds</th>\n",
       "    </tr>\n",
       "    <tr>\n",
       "      <th>group_user</th>\n",
       "      <th></th>\n",
       "    </tr>\n",
       "  </thead>\n",
       "  <tbody>\n",
       "    <tr>\n",
       "      <th>0day</th>\n",
       "      <td>8841598</td>\n",
       "    </tr>\n",
       "    <tr>\n",
       "      <th>181-360day</th>\n",
       "      <td>3159251</td>\n",
       "    </tr>\n",
       "    <tr>\n",
       "      <th>1day</th>\n",
       "      <td>2130529</td>\n",
       "    </tr>\n",
       "    <tr>\n",
       "      <th>2day</th>\n",
       "      <td>1218841</td>\n",
       "    </tr>\n",
       "    <tr>\n",
       "      <th>31-60day</th>\n",
       "      <td>2732591</td>\n",
       "    </tr>\n",
       "    <tr>\n",
       "      <th>361day</th>\n",
       "      <td>1135308</td>\n",
       "    </tr>\n",
       "    <tr>\n",
       "      <th>3day</th>\n",
       "      <td>903881</td>\n",
       "    </tr>\n",
       "    <tr>\n",
       "      <th>4day</th>\n",
       "      <td>740441</td>\n",
       "    </tr>\n",
       "    <tr>\n",
       "      <th>5day</th>\n",
       "      <td>618601</td>\n",
       "    </tr>\n",
       "    <tr>\n",
       "      <th>61-90day</th>\n",
       "      <td>1595573</td>\n",
       "    </tr>\n",
       "    <tr>\n",
       "      <th>6day</th>\n",
       "      <td>566578</td>\n",
       "    </tr>\n",
       "    <tr>\n",
       "      <th>7day</th>\n",
       "      <td>508499</td>\n",
       "    </tr>\n",
       "    <tr>\n",
       "      <th>8-30day</th>\n",
       "      <td>5758774</td>\n",
       "    </tr>\n",
       "    <tr>\n",
       "      <th>91-180day</th>\n",
       "      <td>3008501</td>\n",
       "    </tr>\n",
       "  </tbody>\n",
       "</table>\n",
       "</div>"
      ],
      "text/plain": [
       "            cid_tds\n",
       "group_user         \n",
       "0day        8841598\n",
       "181-360day  3159251\n",
       "1day        2130529\n",
       "2day        1218841\n",
       "31-60day    2732591\n",
       "361day      1135308\n",
       "3day         903881\n",
       "4day         740441\n",
       "5day         618601\n",
       "61-90day    1595573\n",
       "6day         566578\n",
       "7day         508499\n",
       "8-30day     5758774\n",
       "91-180day   3008501"
      ]
     },
     "execution_count": 27,
     "metadata": {},
     "output_type": "execute_result"
    }
   ],
   "source": [
    "group_user_groups = banner_data[['group_user','cid_tds']].groupby('group_user').count()\n",
    "group_user_groups"
   ]
  },
  {
   "cell_type": "code",
   "execution_count": 28,
   "id": "ef2e0079",
   "metadata": {},
   "outputs": [
    {
     "data": {
      "text/html": [
       "<div>\n",
       "<style scoped>\n",
       "    .dataframe tbody tr th:only-of-type {\n",
       "        vertical-align: middle;\n",
       "    }\n",
       "\n",
       "    .dataframe tbody tr th {\n",
       "        vertical-align: top;\n",
       "    }\n",
       "\n",
       "    .dataframe thead th {\n",
       "        text-align: right;\n",
       "    }\n",
       "</style>\n",
       "<table border=\"1\" class=\"dataframe\">\n",
       "  <thead>\n",
       "    <tr style=\"text-align: right;\">\n",
       "      <th></th>\n",
       "      <th>cid_tds</th>\n",
       "    </tr>\n",
       "    <tr>\n",
       "      <th>impression</th>\n",
       "      <th></th>\n",
       "    </tr>\n",
       "  </thead>\n",
       "  <tbody>\n",
       "    <tr>\n",
       "      <th>1</th>\n",
       "      <td>4690822</td>\n",
       "    </tr>\n",
       "    <tr>\n",
       "      <th>2</th>\n",
       "      <td>1562725</td>\n",
       "    </tr>\n",
       "    <tr>\n",
       "      <th>3</th>\n",
       "      <td>931543</td>\n",
       "    </tr>\n",
       "    <tr>\n",
       "      <th>4</th>\n",
       "      <td>628414</td>\n",
       "    </tr>\n",
       "    <tr>\n",
       "      <th>5</th>\n",
       "      <td>495475</td>\n",
       "    </tr>\n",
       "    <tr>\n",
       "      <th>...</th>\n",
       "      <td>...</td>\n",
       "    </tr>\n",
       "    <tr>\n",
       "      <th>83943</th>\n",
       "      <td>1</td>\n",
       "    </tr>\n",
       "    <tr>\n",
       "      <th>83944</th>\n",
       "      <td>1</td>\n",
       "    </tr>\n",
       "    <tr>\n",
       "      <th>83945</th>\n",
       "      <td>2</td>\n",
       "    </tr>\n",
       "    <tr>\n",
       "      <th>83946</th>\n",
       "      <td>2</td>\n",
       "    </tr>\n",
       "    <tr>\n",
       "      <th>83947</th>\n",
       "      <td>1</td>\n",
       "    </tr>\n",
       "  </tbody>\n",
       "</table>\n",
       "<p>81831 rows × 1 columns</p>\n",
       "</div>"
      ],
      "text/plain": [
       "            cid_tds\n",
       "impression         \n",
       "1           4690822\n",
       "2           1562725\n",
       "3            931543\n",
       "4            628414\n",
       "5            495475\n",
       "...             ...\n",
       "83943             1\n",
       "83944             1\n",
       "83945             2\n",
       "83946             2\n",
       "83947             1\n",
       "\n",
       "[81831 rows x 1 columns]"
      ]
     },
     "execution_count": 28,
     "metadata": {},
     "output_type": "execute_result"
    }
   ],
   "source": [
    "impression_groups = banner_data[['impression','cid_tds']].groupby('impression').count()\n",
    "impression_groups"
   ]
  },
  {
   "cell_type": "code",
   "execution_count": 29,
   "id": "f30485f9",
   "metadata": {},
   "outputs": [],
   "source": [
    "banner_data = banner_data.assign(impression_group=pd.cut(banner_data['impression'], \n",
    "                               bins=[0, 1, 2, 3, 4, 5, 10, 20, 50, 100, 100000], \n",
    "                               labels=['1', '2', '3', '4', '5', '6-10','11-20', '21-50', '50-100','>100']))"
   ]
  },
  {
   "cell_type": "code",
   "execution_count": 30,
   "id": "5573821e",
   "metadata": {},
   "outputs": [
    {
     "data": {
      "text/html": [
       "<div>\n",
       "<style scoped>\n",
       "    .dataframe tbody tr th:only-of-type {\n",
       "        vertical-align: middle;\n",
       "    }\n",
       "\n",
       "    .dataframe tbody tr th {\n",
       "        vertical-align: top;\n",
       "    }\n",
       "\n",
       "    .dataframe thead th {\n",
       "        text-align: right;\n",
       "    }\n",
       "</style>\n",
       "<table border=\"1\" class=\"dataframe\">\n",
       "  <thead>\n",
       "    <tr style=\"text-align: right;\">\n",
       "      <th></th>\n",
       "      <th>cid_tds</th>\n",
       "    </tr>\n",
       "    <tr>\n",
       "      <th>impression_group</th>\n",
       "      <th></th>\n",
       "    </tr>\n",
       "  </thead>\n",
       "  <tbody>\n",
       "    <tr>\n",
       "      <th>1</th>\n",
       "      <td>4690822</td>\n",
       "    </tr>\n",
       "    <tr>\n",
       "      <th>2</th>\n",
       "      <td>1562725</td>\n",
       "    </tr>\n",
       "    <tr>\n",
       "      <th>3</th>\n",
       "      <td>931543</td>\n",
       "    </tr>\n",
       "    <tr>\n",
       "      <th>4</th>\n",
       "      <td>628414</td>\n",
       "    </tr>\n",
       "    <tr>\n",
       "      <th>5</th>\n",
       "      <td>495475</td>\n",
       "    </tr>\n",
       "    <tr>\n",
       "      <th>6-10</th>\n",
       "      <td>1746485</td>\n",
       "    </tr>\n",
       "    <tr>\n",
       "      <th>11-20</th>\n",
       "      <td>2069222</td>\n",
       "    </tr>\n",
       "    <tr>\n",
       "      <th>21-50</th>\n",
       "      <td>3327371</td>\n",
       "    </tr>\n",
       "    <tr>\n",
       "      <th>50-100</th>\n",
       "      <td>3062140</td>\n",
       "    </tr>\n",
       "    <tr>\n",
       "      <th>&gt;100</th>\n",
       "      <td>14404769</td>\n",
       "    </tr>\n",
       "  </tbody>\n",
       "</table>\n",
       "</div>"
      ],
      "text/plain": [
       "                   cid_tds\n",
       "impression_group          \n",
       "1                  4690822\n",
       "2                  1562725\n",
       "3                   931543\n",
       "4                   628414\n",
       "5                   495475\n",
       "6-10               1746485\n",
       "11-20              2069222\n",
       "21-50              3327371\n",
       "50-100             3062140\n",
       ">100              14404769"
      ]
     },
     "execution_count": 30,
     "metadata": {},
     "output_type": "execute_result"
    }
   ],
   "source": [
    "impression_groups = banner_data[['impression_group','cid_tds']].groupby('impression_group').count()\n",
    "impression_groups"
   ]
  },
  {
   "cell_type": "code",
   "execution_count": 31,
   "id": "64b1c618",
   "metadata": {},
   "outputs": [],
   "source": [
    "banner_data = banner_data.drop(['impression'], axis=1)"
   ]
  },
  {
   "cell_type": "code",
   "execution_count": 32,
   "id": "a24ce785",
   "metadata": {},
   "outputs": [
    {
     "data": {
      "text/html": [
       "<div>\n",
       "<style scoped>\n",
       "    .dataframe tbody tr th:only-of-type {\n",
       "        vertical-align: middle;\n",
       "    }\n",
       "\n",
       "    .dataframe tbody tr th {\n",
       "        vertical-align: top;\n",
       "    }\n",
       "\n",
       "    .dataframe thead th {\n",
       "        text-align: right;\n",
       "    }\n",
       "</style>\n",
       "<table border=\"1\" class=\"dataframe\">\n",
       "  <thead>\n",
       "    <tr style=\"text-align: right;\">\n",
       "      <th></th>\n",
       "      <th>cid_tds</th>\n",
       "    </tr>\n",
       "    <tr>\n",
       "      <th>project_id</th>\n",
       "      <th></th>\n",
       "    </tr>\n",
       "  </thead>\n",
       "  <tbody>\n",
       "    <tr>\n",
       "      <th>1.0</th>\n",
       "      <td>3774003</td>\n",
       "    </tr>\n",
       "    <tr>\n",
       "      <th>2.0</th>\n",
       "      <td>29144877</td>\n",
       "    </tr>\n",
       "  </tbody>\n",
       "</table>\n",
       "</div>"
      ],
      "text/plain": [
       "             cid_tds\n",
       "project_id          \n",
       "1.0          3774003\n",
       "2.0         29144877"
      ]
     },
     "execution_count": 32,
     "metadata": {},
     "output_type": "execute_result"
    }
   ],
   "source": [
    "project_groups = banner_data[['project_id','cid_tds']].groupby('project_id').count()\n",
    "project_groups"
   ]
  },
  {
   "cell_type": "code",
   "execution_count": 33,
   "id": "743500c1",
   "metadata": {},
   "outputs": [
    {
     "data": {
      "text/html": [
       "<div>\n",
       "<style scoped>\n",
       "    .dataframe tbody tr th:only-of-type {\n",
       "        vertical-align: middle;\n",
       "    }\n",
       "\n",
       "    .dataframe tbody tr th {\n",
       "        vertical-align: top;\n",
       "    }\n",
       "\n",
       "    .dataframe thead th {\n",
       "        text-align: right;\n",
       "    }\n",
       "</style>\n",
       "<table border=\"1\" class=\"dataframe\">\n",
       "  <thead>\n",
       "    <tr style=\"text-align: right;\">\n",
       "      <th></th>\n",
       "      <th>cid_tds</th>\n",
       "    </tr>\n",
       "    <tr>\n",
       "      <th>zoneid</th>\n",
       "      <th></th>\n",
       "    </tr>\n",
       "  </thead>\n",
       "  <tbody>\n",
       "    <tr>\n",
       "      <th>1</th>\n",
       "      <td>7258975</td>\n",
       "    </tr>\n",
       "    <tr>\n",
       "      <th>4</th>\n",
       "      <td>1651925</td>\n",
       "    </tr>\n",
       "    <tr>\n",
       "      <th>5</th>\n",
       "      <td>672180</td>\n",
       "    </tr>\n",
       "    <tr>\n",
       "      <th>6</th>\n",
       "      <td>668587</td>\n",
       "    </tr>\n",
       "    <tr>\n",
       "      <th>7</th>\n",
       "      <td>220357</td>\n",
       "    </tr>\n",
       "    <tr>\n",
       "      <th>8</th>\n",
       "      <td>706199</td>\n",
       "    </tr>\n",
       "    <tr>\n",
       "      <th>9</th>\n",
       "      <td>165404</td>\n",
       "    </tr>\n",
       "    <tr>\n",
       "      <th>10</th>\n",
       "      <td>2579424</td>\n",
       "    </tr>\n",
       "    <tr>\n",
       "      <th>11</th>\n",
       "      <td>2658674</td>\n",
       "    </tr>\n",
       "    <tr>\n",
       "      <th>12</th>\n",
       "      <td>283396</td>\n",
       "    </tr>\n",
       "    <tr>\n",
       "      <th>164</th>\n",
       "      <td>6167</td>\n",
       "    </tr>\n",
       "    <tr>\n",
       "      <th>166</th>\n",
       "      <td>6181</td>\n",
       "    </tr>\n",
       "    <tr>\n",
       "      <th>167</th>\n",
       "      <td>250</td>\n",
       "    </tr>\n",
       "    <tr>\n",
       "      <th>168</th>\n",
       "      <td>6192</td>\n",
       "    </tr>\n",
       "    <tr>\n",
       "      <th>169</th>\n",
       "      <td>38055</td>\n",
       "    </tr>\n",
       "    <tr>\n",
       "      <th>170</th>\n",
       "      <td>22882</td>\n",
       "    </tr>\n",
       "    <tr>\n",
       "      <th>171</th>\n",
       "      <td>38274</td>\n",
       "    </tr>\n",
       "    <tr>\n",
       "      <th>180</th>\n",
       "      <td>2197435</td>\n",
       "    </tr>\n",
       "    <tr>\n",
       "      <th>183</th>\n",
       "      <td>5256</td>\n",
       "    </tr>\n",
       "    <tr>\n",
       "      <th>184</th>\n",
       "      <td>30443</td>\n",
       "    </tr>\n",
       "    <tr>\n",
       "      <th>185</th>\n",
       "      <td>30841</td>\n",
       "    </tr>\n",
       "    <tr>\n",
       "      <th>215</th>\n",
       "      <td>9416003</td>\n",
       "    </tr>\n",
       "    <tr>\n",
       "      <th>216</th>\n",
       "      <td>1273339</td>\n",
       "    </tr>\n",
       "    <tr>\n",
       "      <th>217</th>\n",
       "      <td>326998</td>\n",
       "    </tr>\n",
       "    <tr>\n",
       "      <th>218</th>\n",
       "      <td>112918</td>\n",
       "    </tr>\n",
       "    <tr>\n",
       "      <th>219</th>\n",
       "      <td>104210</td>\n",
       "    </tr>\n",
       "    <tr>\n",
       "      <th>220</th>\n",
       "      <td>94264</td>\n",
       "    </tr>\n",
       "    <tr>\n",
       "      <th>221</th>\n",
       "      <td>326119</td>\n",
       "    </tr>\n",
       "    <tr>\n",
       "      <th>222</th>\n",
       "      <td>7950</td>\n",
       "    </tr>\n",
       "    <tr>\n",
       "      <th>223</th>\n",
       "      <td>725</td>\n",
       "    </tr>\n",
       "    <tr>\n",
       "      <th>224</th>\n",
       "      <td>6041</td>\n",
       "    </tr>\n",
       "    <tr>\n",
       "      <th>226</th>\n",
       "      <td>7929</td>\n",
       "    </tr>\n",
       "    <tr>\n",
       "      <th>228</th>\n",
       "      <td>8006</td>\n",
       "    </tr>\n",
       "    <tr>\n",
       "      <th>230</th>\n",
       "      <td>317</td>\n",
       "    </tr>\n",
       "    <tr>\n",
       "      <th>231</th>\n",
       "      <td>1</td>\n",
       "    </tr>\n",
       "    <tr>\n",
       "      <th>232</th>\n",
       "      <td>6</td>\n",
       "    </tr>\n",
       "    <tr>\n",
       "      <th>243</th>\n",
       "      <td>1987043</td>\n",
       "    </tr>\n",
       "  </tbody>\n",
       "</table>\n",
       "</div>"
      ],
      "text/plain": [
       "        cid_tds\n",
       "zoneid         \n",
       "1       7258975\n",
       "4       1651925\n",
       "5        672180\n",
       "6        668587\n",
       "7        220357\n",
       "8        706199\n",
       "9        165404\n",
       "10      2579424\n",
       "11      2658674\n",
       "12       283396\n",
       "164        6167\n",
       "166        6181\n",
       "167         250\n",
       "168        6192\n",
       "169       38055\n",
       "170       22882\n",
       "171       38274\n",
       "180     2197435\n",
       "183        5256\n",
       "184       30443\n",
       "185       30841\n",
       "215     9416003\n",
       "216     1273339\n",
       "217      326998\n",
       "218      112918\n",
       "219      104210\n",
       "220       94264\n",
       "221      326119\n",
       "222        7950\n",
       "223         725\n",
       "224        6041\n",
       "226        7929\n",
       "228        8006\n",
       "230         317\n",
       "231           1\n",
       "232           6\n",
       "243     1987043"
      ]
     },
     "execution_count": 33,
     "metadata": {},
     "output_type": "execute_result"
    }
   ],
   "source": [
    "zoneid_groups = banner_data[['zoneid','cid_tds']].groupby('zoneid').count()\n",
    "zoneid_groups"
   ]
  },
  {
   "cell_type": "code",
   "execution_count": 34,
   "id": "1269d6ad",
   "metadata": {},
   "outputs": [],
   "source": [
    "banner_data['hour2'] = pd.to_datetime(banner_data['ts'], unit='s').dt.hour"
   ]
  },
  {
   "cell_type": "code",
   "execution_count": 35,
   "id": "e4658b98",
   "metadata": {},
   "outputs": [],
   "source": [
    "banner_data = banner_data.assign(hour_group=pd.cut(banner_data['hour2'], \n",
    "                               bins=[0, 4, 8, 12, 16, 20, 25], \n",
    "                               labels=['0-4', '5-8', '9-12', '13-16', '17-20','21-24']))"
   ]
  },
  {
   "cell_type": "code",
   "execution_count": 36,
   "id": "fa36b22f",
   "metadata": {},
   "outputs": [
    {
     "name": "stdout",
     "output_type": "stream",
     "text": [
      "<class 'pandas.core.frame.DataFrame'>\n",
      "Int64Index: 32918966 entries, 0 to 32918965\n",
      "Data columns (total 12 columns):\n",
      " #   Column            Dtype   \n",
      "---  ------            -----   \n",
      " 0   cid_tds           object  \n",
      " 1   group_user        object  \n",
      " 2   project_id        float32 \n",
      " 3   ts                int64   \n",
      " 4   user              float64 \n",
      " 5   zoneid            int32   \n",
      " 6   payout_num        float32 \n",
      " 7   ispay_num         int16   \n",
      " 8   contract_type     object  \n",
      " 9   impression_group  category\n",
      " 10  hour2             int64   \n",
      " 11  hour_group        category\n",
      "dtypes: category(2), float32(2), float64(1), int16(1), int32(1), int64(2), object(3)\n",
      "memory usage: 2.2+ GB\n"
     ]
    }
   ],
   "source": [
    "banner_data.info()"
   ]
  },
  {
   "cell_type": "code",
   "execution_count": 37,
   "id": "2d2bffe2",
   "metadata": {},
   "outputs": [],
   "source": [
    "banner_data = banner_data.drop(['user'], axis=1)"
   ]
  },
  {
   "cell_type": "code",
   "execution_count": 38,
   "id": "caa8c5d7",
   "metadata": {},
   "outputs": [],
   "source": [
    "banner_data['project_id'] = banner_data['project_id'].astype('category')"
   ]
  },
  {
   "cell_type": "code",
   "execution_count": 39,
   "id": "b819d571",
   "metadata": {},
   "outputs": [],
   "source": [
    "banner_data['zoneid'] = banner_data['zoneid'].astype('category')"
   ]
  },
  {
   "cell_type": "code",
   "execution_count": 40,
   "id": "b8801b5e",
   "metadata": {},
   "outputs": [],
   "source": [
    "banner_data['contract_type'] = banner_data['contract_type'].astype('category')"
   ]
  },
  {
   "cell_type": "code",
   "execution_count": 41,
   "id": "22a70ee5",
   "metadata": {},
   "outputs": [],
   "source": [
    "banner_data['group_user'] = banner_data['group_user'].astype('category')"
   ]
  },
  {
   "cell_type": "code",
   "execution_count": 42,
   "id": "8b81e883",
   "metadata": {},
   "outputs": [
    {
     "name": "stdout",
     "output_type": "stream",
     "text": [
      "<class 'pandas.core.frame.DataFrame'>\n",
      "Int64Index: 32918966 entries, 0 to 32918965\n",
      "Data columns (total 11 columns):\n",
      " #   Column            Dtype   \n",
      "---  ------            -----   \n",
      " 0   cid_tds           object  \n",
      " 1   group_user        category\n",
      " 2   project_id        category\n",
      " 3   ts                int64   \n",
      " 4   zoneid            category\n",
      " 5   payout_num        float32 \n",
      " 6   ispay_num         int16   \n",
      " 7   contract_type     category\n",
      " 8   impression_group  category\n",
      " 9   hour2             int64   \n",
      " 10  hour_group        category\n",
      "dtypes: category(6), float32(1), int16(1), int64(2), object(1)\n",
      "memory usage: 1.3+ GB\n"
     ]
    }
   ],
   "source": [
    "banner_data.info()"
   ]
  },
  {
   "cell_type": "markdown",
   "id": "99170281",
   "metadata": {},
   "source": [
    "One-hot encoding of \"zoneid\" variable results in error due to low memory. Let's one-hot encode only 'group_user','project_id','contract_type','impression_group', 'hour' variables."
   ]
  },
  {
   "cell_type": "code",
   "execution_count": 43,
   "id": "1a38104d",
   "metadata": {},
   "outputs": [],
   "source": [
    "train_val_test = pd.get_dummies(banner_data, columns=['group_user','project_id','contract_type','impression_group'])"
   ]
  },
  {
   "cell_type": "code",
   "execution_count": 44,
   "id": "41a98767",
   "metadata": {},
   "outputs": [],
   "source": [
    "train_val_test['payout_num'] = train_val_test['payout_num'].fillna(0)"
   ]
  },
  {
   "cell_type": "markdown",
   "id": "885bdb26",
   "metadata": {},
   "source": [
    "Convert numeric timestamp to datetime."
   ]
  },
  {
   "cell_type": "code",
   "execution_count": 45,
   "id": "db94c03e",
   "metadata": {},
   "outputs": [
    {
     "data": {
      "text/plain": [
       "count                         32918966\n",
       "mean     2018-09-28 19:41:12.816581376\n",
       "min                2018-09-19 21:00:00\n",
       "25%                2018-09-24 04:15:29\n",
       "50%                2018-09-28 19:22:27\n",
       "75%                2018-10-03 10:13:10\n",
       "max                2018-10-07 20:59:59\n",
       "Name: ts, dtype: object"
      ]
     },
     "execution_count": 45,
     "metadata": {},
     "output_type": "execute_result"
    }
   ],
   "source": [
    "train_val_test['ts'] = pd.to_datetime(train_val_test['ts'], unit='s')\n",
    "train_val_test['ts'].describe(datetime_is_numeric=True)"
   ]
  },
  {
   "cell_type": "markdown",
   "id": "c6d9a041",
   "metadata": {},
   "source": [
    "According to description, we have records for interval September 20th - October 7th. Thus, we need to drop records with dates not in this interval."
   ]
  },
  {
   "cell_type": "markdown",
   "id": "561f6c8b",
   "metadata": {},
   "source": [
    "## Modelling"
   ]
  },
  {
   "cell_type": "markdown",
   "id": "394fa73e",
   "metadata": {},
   "source": [
    "Extract test dataset"
   ]
  },
  {
   "cell_type": "code",
   "execution_count": 46,
   "id": "f1f10022",
   "metadata": {},
   "outputs": [],
   "source": [
    "test = train_val_test[train_val_test['ts'] >= '2018-10-04 00:00:00']"
   ]
  },
  {
   "cell_type": "code",
   "execution_count": 47,
   "id": "a8e57dcd",
   "metadata": {},
   "outputs": [],
   "source": [
    "test = pd.get_dummies(test, columns=['hour_group'])"
   ]
  },
  {
   "cell_type": "markdown",
   "id": "3a6c12dc",
   "metadata": {},
   "source": [
    "Get random sample for model training"
   ]
  },
  {
   "cell_type": "code",
   "execution_count": 48,
   "id": "3abcd1b4",
   "metadata": {},
   "outputs": [],
   "source": [
    "train_val = train_val_test.sample(n = 1500000)"
   ]
  },
  {
   "cell_type": "code",
   "execution_count": 49,
   "id": "1c202610",
   "metadata": {},
   "outputs": [
    {
     "data": {
      "text/plain": [
       "(1161857, 42)"
      ]
     },
     "execution_count": 49,
     "metadata": {},
     "output_type": "execute_result"
    }
   ],
   "source": [
    "train_val = train_val[(train_val['ts'] < '2018-10-04 00:00:00') & (train_val['ts'] >= '2018-09-20 00:00:00')]\n",
    "train_val.shape"
   ]
  },
  {
   "cell_type": "code",
   "execution_count": 50,
   "id": "6395c464",
   "metadata": {},
   "outputs": [],
   "source": [
    "train_val = pd.get_dummies(train_val, columns=['hour_group'])"
   ]
  },
  {
   "cell_type": "markdown",
   "id": "b80f1506",
   "metadata": {},
   "source": [
    "Drop excess columns"
   ]
  },
  {
   "cell_type": "code",
   "execution_count": 51,
   "id": "ca69c027",
   "metadata": {},
   "outputs": [],
   "source": [
    "X = train_val.drop(['cid_tds','ts','zoneid','payout_num','hour2'], axis=1)\n",
    "y = train_val['payout_num']"
   ]
  },
  {
   "cell_type": "markdown",
   "id": "8e65f44e",
   "metadata": {},
   "source": [
    "Split dataset into train / validation "
   ]
  },
  {
   "cell_type": "code",
   "execution_count": 52,
   "id": "e5016899",
   "metadata": {},
   "outputs": [],
   "source": [
    "X_train, X_val, y_train, y_val = train_test_split(X, y, test_size=0.1)"
   ]
  },
  {
   "cell_type": "markdown",
   "id": "e4569acf",
   "metadata": {},
   "source": [
    "Train models"
   ]
  },
  {
   "cell_type": "markdown",
   "id": "2a6cb837",
   "metadata": {},
   "source": [
    "#### Linear regression - baseline model"
   ]
  },
  {
   "cell_type": "code",
   "execution_count": 53,
   "id": "082d758a",
   "metadata": {},
   "outputs": [],
   "source": [
    "lm = LinearRegression()\n",
    "lm.fit(X_train, y_train)\n",
    "\n",
    "Yhat = lm.predict(X_val) "
   ]
  },
  {
   "cell_type": "code",
   "execution_count": 54,
   "id": "477e3295",
   "metadata": {},
   "outputs": [
    {
     "name": "stdout",
     "output_type": "stream",
     "text": [
      "The R-square is:  0.0002260389986707967\n"
     ]
    }
   ],
   "source": [
    "print('The R-square is: ', r2_score(y_val, Yhat))"
   ]
  },
  {
   "cell_type": "code",
   "execution_count": 55,
   "id": "278e391d",
   "metadata": {},
   "outputs": [
    {
     "name": "stdout",
     "output_type": "stream",
     "text": [
      "The Mean Square Error on validation dataset is:  2.523806364325739\n"
     ]
    }
   ],
   "source": [
    "print('The Mean Square Error on validation dataset is: ', mean_squared_error(y_val, Yhat))"
   ]
  },
  {
   "cell_type": "markdown",
   "id": "c0ed9889",
   "metadata": {},
   "source": [
    "#### Random forest regression"
   ]
  },
  {
   "cell_type": "code",
   "execution_count": 59,
   "id": "b1359e34",
   "metadata": {},
   "outputs": [],
   "source": [
    "regressor = RandomForestRegressor(n_estimators = 100, random_state = 0)\n",
    "regressor.fit(X_train, y_train)\n",
    "\n",
    "Yhat = regressor.predict(X_val) "
   ]
  },
  {
   "cell_type": "code",
   "execution_count": 60,
   "id": "fb582dcf",
   "metadata": {},
   "outputs": [
    {
     "name": "stdout",
     "output_type": "stream",
     "text": [
      "The R-square is:  -0.01965426985601537\n"
     ]
    }
   ],
   "source": [
    "print('The R-square is: ', r2_score(y_val, Yhat))"
   ]
  },
  {
   "cell_type": "code",
   "execution_count": 61,
   "id": "bc57c773",
   "metadata": {},
   "outputs": [
    {
     "name": "stdout",
     "output_type": "stream",
     "text": [
      "The Mean Square Error on validation dataset is:  2.6837319747038184\n"
     ]
    }
   ],
   "source": [
    "print('The Mean Square Error on validation dataset is: ', mean_squared_error(y_val, Yhat))"
   ]
  },
  {
   "cell_type": "markdown",
   "id": "dff69735",
   "metadata": {},
   "source": [
    "#### XGBoost regression"
   ]
  },
  {
   "cell_type": "code",
   "execution_count": 56,
   "id": "8470ceeb",
   "metadata": {},
   "outputs": [],
   "source": [
    "model = xgb.XGBRegressor()\n",
    "model.fit(X_train, y_train)\n",
    "\n",
    "Yhat = model.predict(X_val) "
   ]
  },
  {
   "cell_type": "code",
   "execution_count": 57,
   "id": "240ae009",
   "metadata": {},
   "outputs": [
    {
     "name": "stdout",
     "output_type": "stream",
     "text": [
      "The R-square is:  -0.011407352393239645\n"
     ]
    }
   ],
   "source": [
    "print('The R-square is: ', r2_score(y_val, Yhat))"
   ]
  },
  {
   "cell_type": "code",
   "execution_count": 58,
   "id": "3ff92804",
   "metadata": {},
   "outputs": [
    {
     "name": "stdout",
     "output_type": "stream",
     "text": [
      "The Mean Square Error on validation dataset is:  2.6620257\n"
     ]
    }
   ],
   "source": [
    "print('The Mean Square Error on validation dataset is: ', mean_squared_error(y_val, Yhat))"
   ]
  },
  {
   "cell_type": "markdown",
   "id": "fd15c516",
   "metadata": {},
   "source": [
    "## Prediction"
   ]
  },
  {
   "cell_type": "code",
   "execution_count": 54,
   "id": "4e51930e",
   "metadata": {},
   "outputs": [],
   "source": [
    "x_test = test.drop(['cid_tds','ts','zoneid','payout_num','hour2'], axis=1)"
   ]
  },
  {
   "cell_type": "code",
   "execution_count": 55,
   "id": "74637f4e",
   "metadata": {},
   "outputs": [
    {
     "data": {
      "text/plain": [
       "['ispay_num',\n",
       " 'group_user_0day',\n",
       " 'group_user_181-360day',\n",
       " 'group_user_1day',\n",
       " 'group_user_2day',\n",
       " 'group_user_31-60day',\n",
       " 'group_user_361day',\n",
       " 'group_user_3day',\n",
       " 'group_user_4day',\n",
       " 'group_user_5day',\n",
       " 'group_user_61-90day',\n",
       " 'group_user_6day',\n",
       " 'group_user_7day',\n",
       " 'group_user_8-30day',\n",
       " 'group_user_91-180day',\n",
       " 'project_id_1.0',\n",
       " 'project_id_2.0',\n",
       " 'contract_type_0cbc6611f5540bd0809a388dc95a615b',\n",
       " 'contract_type_787df3c929e166f3f27c5208e45c23d3',\n",
       " 'contract_type_7a1920d61156abc05a60135aefe8bc67',\n",
       " 'contract_type_a8ec3492f1a1296c01d725428c42bb2c',\n",
       " 'contract_type_ae5b813b9b18f8760d5a612341a09f67',\n",
       " 'contract_type_cbdaba5605992f8e1635ad782152d65a',\n",
       " 'contract_type_db407837f9f3103c702b5e6184f26c5d',\n",
       " 'contract_type_dc5b2c63368e976b65ab1f2493b7c3be',\n",
       " 'contract_type_e854a6217ff1e49413ffa5353f124c64',\n",
       " 'impression_group_1',\n",
       " 'impression_group_2',\n",
       " 'impression_group_3',\n",
       " 'impression_group_4',\n",
       " 'impression_group_5',\n",
       " 'impression_group_6-10',\n",
       " 'impression_group_11-20',\n",
       " 'impression_group_21-50',\n",
       " 'impression_group_50-100',\n",
       " 'impression_group_>100',\n",
       " 'hour_group_0-4',\n",
       " 'hour_group_5-8',\n",
       " 'hour_group_9-12',\n",
       " 'hour_group_13-16',\n",
       " 'hour_group_17-20',\n",
       " 'hour_group_21-24']"
      ]
     },
     "execution_count": 55,
     "metadata": {},
     "output_type": "execute_result"
    }
   ],
   "source": [
    "x_test.columns.tolist()"
   ]
  },
  {
   "cell_type": "code",
   "execution_count": 56,
   "id": "6f18183d",
   "metadata": {},
   "outputs": [
    {
     "data": {
      "text/plain": [
       "['ispay_num',\n",
       " 'group_user_0day',\n",
       " 'group_user_181-360day',\n",
       " 'group_user_1day',\n",
       " 'group_user_2day',\n",
       " 'group_user_31-60day',\n",
       " 'group_user_361day',\n",
       " 'group_user_3day',\n",
       " 'group_user_4day',\n",
       " 'group_user_5day',\n",
       " 'group_user_61-90day',\n",
       " 'group_user_6day',\n",
       " 'group_user_7day',\n",
       " 'group_user_8-30day',\n",
       " 'group_user_91-180day',\n",
       " 'project_id_1.0',\n",
       " 'project_id_2.0',\n",
       " 'contract_type_0cbc6611f5540bd0809a388dc95a615b',\n",
       " 'contract_type_787df3c929e166f3f27c5208e45c23d3',\n",
       " 'contract_type_7a1920d61156abc05a60135aefe8bc67',\n",
       " 'contract_type_a8ec3492f1a1296c01d725428c42bb2c',\n",
       " 'contract_type_ae5b813b9b18f8760d5a612341a09f67',\n",
       " 'contract_type_cbdaba5605992f8e1635ad782152d65a',\n",
       " 'contract_type_db407837f9f3103c702b5e6184f26c5d',\n",
       " 'contract_type_dc5b2c63368e976b65ab1f2493b7c3be',\n",
       " 'contract_type_e854a6217ff1e49413ffa5353f124c64',\n",
       " 'impression_group_1',\n",
       " 'impression_group_2',\n",
       " 'impression_group_3',\n",
       " 'impression_group_4',\n",
       " 'impression_group_5',\n",
       " 'impression_group_6-10',\n",
       " 'impression_group_11-20',\n",
       " 'impression_group_21-50',\n",
       " 'impression_group_50-100',\n",
       " 'impression_group_>100',\n",
       " 'hour_group_0-4',\n",
       " 'hour_group_5-8',\n",
       " 'hour_group_9-12',\n",
       " 'hour_group_13-16',\n",
       " 'hour_group_17-20',\n",
       " 'hour_group_21-24']"
      ]
     },
     "execution_count": 56,
     "metadata": {},
     "output_type": "execute_result"
    }
   ],
   "source": [
    "X_val.columns.tolist()"
   ]
  },
  {
   "cell_type": "code",
   "execution_count": 57,
   "id": "a046fce4",
   "metadata": {},
   "outputs": [
    {
     "data": {
      "text/plain": [
       "(7133130, 42)"
      ]
     },
     "execution_count": 57,
     "metadata": {},
     "output_type": "execute_result"
    }
   ],
   "source": [
    "x_test.shape"
   ]
  },
  {
   "cell_type": "code",
   "execution_count": 58,
   "id": "54cb9791",
   "metadata": {},
   "outputs": [],
   "source": [
    "part1 = x_test.head(4000000)\n",
    "part2 = x_test.tail(x_test.shape[0]-part1.shape[0])"
   ]
  },
  {
   "cell_type": "code",
   "execution_count": 59,
   "id": "1d53388c",
   "metadata": {},
   "outputs": [
    {
     "data": {
      "text/plain": [
       "(3133130, 42)"
      ]
     },
     "execution_count": 59,
     "metadata": {},
     "output_type": "execute_result"
    }
   ],
   "source": [
    "part2.shape"
   ]
  },
  {
   "cell_type": "code",
   "execution_count": 60,
   "id": "255f5470",
   "metadata": {},
   "outputs": [],
   "source": [
    "y_test1 = lm.predict(part1)"
   ]
  },
  {
   "cell_type": "code",
   "execution_count": 61,
   "id": "19dbaff7",
   "metadata": {},
   "outputs": [],
   "source": [
    "y_test2 = lm.predict(part2)"
   ]
  },
  {
   "cell_type": "code",
   "execution_count": 62,
   "id": "b3a21fb8",
   "metadata": {},
   "outputs": [],
   "source": [
    "y_test = pd.concat([pd.Series(y_test1),pd.Series(y_test2)])"
   ]
  },
  {
   "cell_type": "code",
   "execution_count": 64,
   "id": "e5f6480d",
   "metadata": {},
   "outputs": [],
   "source": [
    "df = pd.DataFrame(y_test, columns=['prediction'])"
   ]
  },
  {
   "cell_type": "code",
   "execution_count": 65,
   "id": "04c553c3",
   "metadata": {},
   "outputs": [],
   "source": [
    "df.to_csv('prediction.csv', index=False)"
   ]
  },
  {
   "cell_type": "code",
   "execution_count": 66,
   "id": "c5570786",
   "metadata": {},
   "outputs": [],
   "source": [
    "cid_test = test['cid_tds']"
   ]
  },
  {
   "cell_type": "code",
   "execution_count": 68,
   "id": "5b90ac9d",
   "metadata": {},
   "outputs": [],
   "source": [
    "df2 = pd.DataFrame(cid_test, columns=['cid_tds'])"
   ]
  },
  {
   "cell_type": "code",
   "execution_count": 69,
   "id": "fae005f3",
   "metadata": {},
   "outputs": [],
   "source": [
    "df2.to_csv('cid_tds_test.csv', index=False)"
   ]
  },
  {
   "cell_type": "code",
   "execution_count": null,
   "id": "b8088204",
   "metadata": {},
   "outputs": [],
   "source": []
  }
 ],
 "metadata": {
  "kernelspec": {
   "display_name": "Python 3 (ipykernel)",
   "language": "python",
   "name": "python3"
  },
  "language_info": {
   "codemirror_mode": {
    "name": "ipython",
    "version": 3
   },
   "file_extension": ".py",
   "mimetype": "text/x-python",
   "name": "python",
   "nbconvert_exporter": "python",
   "pygments_lexer": "ipython3",
   "version": "3.9.7"
  }
 },
 "nbformat": 4,
 "nbformat_minor": 5
}
