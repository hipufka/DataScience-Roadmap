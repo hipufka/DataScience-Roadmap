{
 "cells": [
  {
   "cell_type": "code",
   "execution_count": null,
   "id": "7ac42b10",
   "metadata": {},
   "outputs": [],
   "source": [
    "import catboost as ctb\n",
    "import pandas as pd\n",
    "import vertica_python\n",
    "from vertica_python.errors import MissingRelation\n",
    "import verticapy as vp\n",
    "from verticapy.utilities import pandas_to_vertica, insert_into, drop, readSQL\n",
    "import configparser"
   ]
  },
  {
   "cell_type": "markdown",
   "id": "eb0819ab",
   "metadata": {},
   "source": [
    "Helper functions"
   ]
  },
  {
   "cell_type": "code",
   "execution_count": null,
   "id": "7c10fa32",
   "metadata": {},
   "outputs": [],
   "source": [
    "config_path = 'config.ini'\n",
    "\n",
    "def get_VRT_cursor(path=config_path):\n",
    "    config = configparser.ConfigParser()\n",
    "    config.read(path)\n",
    "    \n",
    "    credentials = {\n",
    "        'database': config['VERTICA']['database'],\n",
    "        'user': config['VERTICA']['user'],\n",
    "        'password': config['VERTICA']['password'],\n",
    "        'host': config['VERTICA']['host'],\n",
    "        'port': config['VERTICA']['port']\n",
    "    }\n",
    "    \n",
    "    conn = vertica_python.connect(**credentials)\n",
    "    cursor = conn.cursor()\n",
    "    return cursor, conn\n",
    "\n",
    "def get_CH_cursor(path=config_path):\n",
    "    config = configparser.ConfigParser()\n",
    "    config.read(path)\n",
    "    \n",
    "    credentials = {\n",
    "        'database': config['CLICKHOUSE']['database'],\n",
    "        'user': config['CLICKHOUSE']['user'],\n",
    "        'password': config['CLICKHOUSE']['password'],\n",
    "        'host': config['CLICKHOUSE']['host'],\n",
    "        'port': config['CLICKHOUSE']['port']\n",
    "    }\n",
    "    \n",
    "    conn = Connection(**credentials)\n",
    "    \n",
    "    cursor = conn.cursor()\n",
    "    return cursor\n",
    "\n",
    "def get_df_from_sql(cursor, sql='SELECT now(), version()'):\n",
    "    cursor.execute(sql)\n",
    "    columns = cursor.description\n",
    "    result = cursor.fetchall()\n",
    "    df = pd.DataFrame(result, columns=[tuple[0] for tuple in columns])\n",
    "    return df\n",
    "\n",
    "def to_vertica(sql, table_name, CH_cursor, VRT_cursor, users_list):\n",
    "    df = get_df_from_sql(CH_cursor, sql)\n",
    "    \n",
    "    try:\n",
    "        readSQL(f\"SELECT * FROM your_schema_name.{table_name}\", limit = 1)\n",
    "        drop(name = f\"your_schema_name.{table_name}\")\n",
    "        print(f\"Table your_schema_name.{table_name} droped.\")\n",
    "        \n",
    "        pandas_to_vertica(df = df, name = table_name, schema = \"your_schema_name\")\n",
    "    except MissingRelation:\n",
    "        pandas_to_vertica(df = df, name = table_name, schema = \"your_schema_name\")\n",
    "        \n",
    "    VRT_cursor.execute(f\"GRANT SELECT ON TABLE your_schema_name.{table_name} TO {', '.join(users_list)}\")\n",
    "    print(f\"GRANT SELECT ON TABLE your_schema_name.{table_name} TO {', '.join(users_list)}\")\n",
    "    \n",
    "def drop_table(table_name):\n",
    "    try:\n",
    "        readSQL(f\"SELECT * FROM your_schema_name.{table_name}\", limit = 1)\n",
    "        drop(name = f\"your_schema_name.{table_name}\")\n",
    "        print(f\"Table your_schema_name.{table_name} droped.\")\n",
    "    except MissingRelation as e:\n",
    "        print(str(e))    \n",
    "\n",
    "CH_cursor = get_CH_cursor()\n",
    "VRT_cursor, conn = get_VRT_cursor()\n",
    "vp.set_connection(conn)\n",
    "\n",
    "users_list = ['some_user']"
   ]
  },
  {
   "cell_type": "markdown",
   "id": "6ce606e1",
   "metadata": {},
   "source": [
    "'config.ini' file looks like this:\n",
    "[CLICKHOUSE]\n",
    "database = your_db_name \n",
    "user = your_username\n",
    "password = your_password\n",
    "host = your_host\n",
    "port = your_port\n",
    "\n",
    "[VERTICA]\n",
    "database = your_db_name\n",
    "user = your_username\n",
    "password = your_password\n",
    "host = your_host\n",
    "port = your_port"
   ]
  },
  {
   "cell_type": "markdown",
   "id": "6f7a5766",
   "metadata": {},
   "source": [
    "Get data"
   ]
  },
  {
   "cell_type": "code",
   "execution_count": null,
   "id": "9d7c00f6",
   "metadata": {},
   "outputs": [],
   "source": [
    "sql = \"\"\"\n",
    "SELECT *\n",
    "FROM your_schema.your_table r\n",
    "\"\"\""
   ]
  },
  {
   "cell_type": "code",
   "execution_count": null,
   "id": "8de9eb53",
   "metadata": {},
   "outputs": [],
   "source": [
    "df = get_df_from_sql(cursor=VRT_cursor, sql=sql)"
   ]
  },
  {
   "cell_type": "markdown",
   "id": "9a74cf85",
   "metadata": {},
   "source": [
    "Load models"
   ]
  },
  {
   "cell_type": "code",
   "execution_count": null,
   "id": "22ac77f9",
   "metadata": {},
   "outputs": [],
   "source": [
    "model1 = ctb.CatBoostRegressor()      \n",
    "model1.load_model('model_catboost_v1.cbm')\n",
    "model2 = ctb.CatBoostRegressor()      \n",
    "model2.load_model('model_catboost_v2.cbm')"
   ]
  },
  {
   "cell_type": "code",
   "execution_count": null,
   "id": "ebabf4ae",
   "metadata": {},
   "outputs": [],
   "source": [
    "features = ['feature1', 'feature2', 'feature3', 'feature4']\n",
    "cat_features = ['feature1', 'feature2']"
   ]
  },
  {
   "cell_type": "code",
   "execution_count": null,
   "id": "bc81b51f",
   "metadata": {},
   "outputs": [],
   "source": [
    "pool = ctb.Pool(df[features], cat_features = cat_features)"
   ]
  },
  {
   "cell_type": "code",
   "execution_count": null,
   "id": "95f4c659",
   "metadata": {},
   "outputs": [],
   "source": [
    "y_predict1 = model1.predict(pool)\n",
    "y_predict2 = model2.predict(pool)"
   ]
  },
  {
   "cell_type": "code",
   "execution_count": null,
   "id": "39be769f",
   "metadata": {},
   "outputs": [],
   "source": [
    "df['predict_old'] = y_predict1\n",
    "df['predict_new'] = y_predict2\n",
    "df"
   ]
  },
  {
   "cell_type": "code",
   "execution_count": null,
   "id": "5d121640",
   "metadata": {},
   "outputs": [],
   "source": [
    "df['accuracy_new'] = abs((df['predict_new'] - df['fact']) / df['fact'])\n",
    "df['accuracy_old'] = abs((df['predict_old'] - df['fact']) / df['fact'])\n",
    "df"
   ]
  },
  {
   "cell_type": "code",
   "execution_count": null,
   "id": "26b6b4c0",
   "metadata": {},
   "outputs": [],
   "source": []
  }
 ],
 "metadata": {
  "kernelspec": {
   "display_name": "Python 3 (ipykernel)",
   "language": "python",
   "name": "python3"
  },
  "language_info": {
   "codemirror_mode": {
    "name": "ipython",
    "version": 3
   },
   "file_extension": ".py",
   "mimetype": "text/x-python",
   "name": "python",
   "nbconvert_exporter": "python",
   "pygments_lexer": "ipython3",
   "version": "3.9.12"
  }
 },
 "nbformat": 4,
 "nbformat_minor": 5
}
