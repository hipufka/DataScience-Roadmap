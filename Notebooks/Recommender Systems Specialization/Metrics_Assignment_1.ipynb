{
 "cells": [
  {
   "cell_type": "markdown",
   "id": "f73f5ed8",
   "metadata": {},
   "source": [
    "## Import modules and helper functions"
   ]
  },
  {
   "cell_type": "code",
   "execution_count": 8,
   "id": "04745398",
   "metadata": {},
   "outputs": [],
   "source": [
    "import pandas as pd\n",
    "from sklearn.metrics import mean_absolute_error as mae"
   ]
  },
  {
   "cell_type": "markdown",
   "id": "48e8cee7",
   "metadata": {},
   "source": [
    "## Import data"
   ]
  },
  {
   "cell_type": "code",
   "execution_count": 14,
   "id": "c481cfe2",
   "metadata": {},
   "outputs": [
    {
     "data": {
      "text/html": [
       "<div>\n",
       "<style scoped>\n",
       "    .dataframe tbody tr th:only-of-type {\n",
       "        vertical-align: middle;\n",
       "    }\n",
       "\n",
       "    .dataframe tbody tr th {\n",
       "        vertical-align: top;\n",
       "    }\n",
       "\n",
       "    .dataframe thead th {\n",
       "        text-align: right;\n",
       "    }\n",
       "</style>\n",
       "<table border=\"1\" class=\"dataframe\">\n",
       "  <thead>\n",
       "    <tr style=\"text-align: right;\">\n",
       "      <th></th>\n",
       "      <th>11: Star Wars: Episode IV - A New Hope (1977)</th>\n",
       "      <th>12: Finding Nemo (2003)</th>\n",
       "      <th>13: Forrest Gump (1994)</th>\n",
       "      <th>14: American Beauty (1999)</th>\n",
       "      <th>22: Pirates of the Caribbean: The Curse of the Black Pearl (2003)</th>\n",
       "      <th>24: Kill Bill: Vol. 1 (2003)</th>\n",
       "      <th>38: Eternal Sunshine of the Spotless Mind (2004)</th>\n",
       "      <th>63: Twelve Monkeys (a.k.a. 12 Monkeys) (1995)</th>\n",
       "      <th>77: Memento (2000)</th>\n",
       "      <th>85: Raiders of the Lost Ark (Indiana Jones and the Raiders of the Lost Ark) (1981)</th>\n",
       "    </tr>\n",
       "    <tr>\n",
       "      <th>Users</th>\n",
       "      <th></th>\n",
       "      <th></th>\n",
       "      <th></th>\n",
       "      <th></th>\n",
       "      <th></th>\n",
       "      <th></th>\n",
       "      <th></th>\n",
       "      <th></th>\n",
       "      <th></th>\n",
       "      <th></th>\n",
       "    </tr>\n",
       "  </thead>\n",
       "  <tbody>\n",
       "    <tr>\n",
       "      <th>5136</th>\n",
       "      <td>4.5</td>\n",
       "      <td>5.0</td>\n",
       "      <td>5.0</td>\n",
       "      <td>4.0</td>\n",
       "      <td>5.0</td>\n",
       "      <td>5.0</td>\n",
       "      <td>5.0</td>\n",
       "      <td>3.0</td>\n",
       "      <td>NaN</td>\n",
       "      <td>5.0</td>\n",
       "    </tr>\n",
       "    <tr>\n",
       "      <th>918</th>\n",
       "      <td>5.0</td>\n",
       "      <td>5.0</td>\n",
       "      <td>4.5</td>\n",
       "      <td>NaN</td>\n",
       "      <td>3.0</td>\n",
       "      <td>NaN</td>\n",
       "      <td>5.0</td>\n",
       "      <td>NaN</td>\n",
       "      <td>5.0</td>\n",
       "      <td>NaN</td>\n",
       "    </tr>\n",
       "    <tr>\n",
       "      <th>2824</th>\n",
       "      <td>4.5</td>\n",
       "      <td>NaN</td>\n",
       "      <td>5.0</td>\n",
       "      <td>NaN</td>\n",
       "      <td>4.5</td>\n",
       "      <td>4.0</td>\n",
       "      <td>NaN</td>\n",
       "      <td>NaN</td>\n",
       "      <td>5.0</td>\n",
       "      <td>NaN</td>\n",
       "    </tr>\n",
       "    <tr>\n",
       "      <th>860</th>\n",
       "      <td>4.0</td>\n",
       "      <td>4.0</td>\n",
       "      <td>4.5</td>\n",
       "      <td>NaN</td>\n",
       "      <td>2.5</td>\n",
       "      <td>3.0</td>\n",
       "      <td>NaN</td>\n",
       "      <td>4.0</td>\n",
       "      <td>4.5</td>\n",
       "      <td>NaN</td>\n",
       "    </tr>\n",
       "    <tr>\n",
       "      <th>442</th>\n",
       "      <td>3.0</td>\n",
       "      <td>NaN</td>\n",
       "      <td>3.0</td>\n",
       "      <td>4.0</td>\n",
       "      <td>1.0</td>\n",
       "      <td>5.0</td>\n",
       "      <td>3.0</td>\n",
       "      <td>2.0</td>\n",
       "      <td>4.0</td>\n",
       "      <td>5.0</td>\n",
       "    </tr>\n",
       "    <tr>\n",
       "      <th>3556</th>\n",
       "      <td>4.0</td>\n",
       "      <td>4.0</td>\n",
       "      <td>4.0</td>\n",
       "      <td>4.0</td>\n",
       "      <td>3.0</td>\n",
       "      <td>5.0</td>\n",
       "      <td>NaN</td>\n",
       "      <td>NaN</td>\n",
       "      <td>NaN</td>\n",
       "      <td>4.0</td>\n",
       "    </tr>\n",
       "    <tr>\n",
       "      <th>5261</th>\n",
       "      <td>NaN</td>\n",
       "      <td>NaN</td>\n",
       "      <td>5.0</td>\n",
       "      <td>NaN</td>\n",
       "      <td>1.5</td>\n",
       "      <td>0.5</td>\n",
       "      <td>NaN</td>\n",
       "      <td>4.0</td>\n",
       "      <td>5.0</td>\n",
       "      <td>NaN</td>\n",
       "    </tr>\n",
       "    <tr>\n",
       "      <th>2492</th>\n",
       "      <td>4.5</td>\n",
       "      <td>3.5</td>\n",
       "      <td>3.5</td>\n",
       "      <td>3.5</td>\n",
       "      <td>4.0</td>\n",
       "      <td>4.0</td>\n",
       "      <td>NaN</td>\n",
       "      <td>4.0</td>\n",
       "      <td>4.0</td>\n",
       "      <td>5.0</td>\n",
       "    </tr>\n",
       "    <tr>\n",
       "      <th>4942</th>\n",
       "      <td>NaN</td>\n",
       "      <td>3.5</td>\n",
       "      <td>4.0</td>\n",
       "      <td>4.0</td>\n",
       "      <td>3.5</td>\n",
       "      <td>4.0</td>\n",
       "      <td>5.0</td>\n",
       "      <td>NaN</td>\n",
       "      <td>5.0</td>\n",
       "      <td>3.5</td>\n",
       "    </tr>\n",
       "    <tr>\n",
       "      <th>2267</th>\n",
       "      <td>NaN</td>\n",
       "      <td>NaN</td>\n",
       "      <td>3.5</td>\n",
       "      <td>NaN</td>\n",
       "      <td>NaN</td>\n",
       "      <td>5.0</td>\n",
       "      <td>1.5</td>\n",
       "      <td>NaN</td>\n",
       "      <td>4.0</td>\n",
       "      <td>NaN</td>\n",
       "    </tr>\n",
       "  </tbody>\n",
       "</table>\n",
       "</div>"
      ],
      "text/plain": [
       "       11: Star Wars: Episode IV - A New Hope (1977)  12: Finding Nemo (2003)  \\\n",
       "Users                                                                           \n",
       "5136                                             4.5                      5.0   \n",
       "918                                              5.0                      5.0   \n",
       "2824                                             4.5                      NaN   \n",
       "860                                              4.0                      4.0   \n",
       "442                                              3.0                      NaN   \n",
       "3556                                             4.0                      4.0   \n",
       "5261                                             NaN                      NaN   \n",
       "2492                                             4.5                      3.5   \n",
       "4942                                             NaN                      3.5   \n",
       "2267                                             NaN                      NaN   \n",
       "\n",
       "       13: Forrest Gump (1994)  14: American Beauty (1999)  \\\n",
       "Users                                                        \n",
       "5136                       5.0                         4.0   \n",
       "918                        4.5                         NaN   \n",
       "2824                       5.0                         NaN   \n",
       "860                        4.5                         NaN   \n",
       "442                        3.0                         4.0   \n",
       "3556                       4.0                         4.0   \n",
       "5261                       5.0                         NaN   \n",
       "2492                       3.5                         3.5   \n",
       "4942                       4.0                         4.0   \n",
       "2267                       3.5                         NaN   \n",
       "\n",
       "       22: Pirates of the Caribbean: The Curse of the Black Pearl (2003)  \\\n",
       "Users                                                                      \n",
       "5136                                                 5.0                   \n",
       "918                                                  3.0                   \n",
       "2824                                                 4.5                   \n",
       "860                                                  2.5                   \n",
       "442                                                  1.0                   \n",
       "3556                                                 3.0                   \n",
       "5261                                                 1.5                   \n",
       "2492                                                 4.0                   \n",
       "4942                                                 3.5                   \n",
       "2267                                                 NaN                   \n",
       "\n",
       "       24: Kill Bill: Vol. 1 (2003)  \\\n",
       "Users                                 \n",
       "5136                            5.0   \n",
       "918                             NaN   \n",
       "2824                            4.0   \n",
       "860                             3.0   \n",
       "442                             5.0   \n",
       "3556                            5.0   \n",
       "5261                            0.5   \n",
       "2492                            4.0   \n",
       "4942                            4.0   \n",
       "2267                            5.0   \n",
       "\n",
       "       38: Eternal Sunshine of the Spotless Mind (2004)  \\\n",
       "Users                                                     \n",
       "5136                                                5.0   \n",
       "918                                                 5.0   \n",
       "2824                                                NaN   \n",
       "860                                                 NaN   \n",
       "442                                                 3.0   \n",
       "3556                                                NaN   \n",
       "5261                                                NaN   \n",
       "2492                                                NaN   \n",
       "4942                                                5.0   \n",
       "2267                                                1.5   \n",
       "\n",
       "       63: Twelve Monkeys (a.k.a. 12 Monkeys) (1995)  77: Memento (2000)  \\\n",
       "Users                                                                      \n",
       "5136                                             3.0                 NaN   \n",
       "918                                              NaN                 5.0   \n",
       "2824                                             NaN                 5.0   \n",
       "860                                              4.0                 4.5   \n",
       "442                                              2.0                 4.0   \n",
       "3556                                             NaN                 NaN   \n",
       "5261                                             4.0                 5.0   \n",
       "2492                                             4.0                 4.0   \n",
       "4942                                             NaN                 5.0   \n",
       "2267                                             NaN                 4.0   \n",
       "\n",
       "       85: Raiders of the Lost Ark (Indiana Jones and the Raiders of the Lost Ark) (1981)  \n",
       "Users                                                                                      \n",
       "5136                                                 5.0                                   \n",
       "918                                                  NaN                                   \n",
       "2824                                                 NaN                                   \n",
       "860                                                  NaN                                   \n",
       "442                                                  5.0                                   \n",
       "3556                                                 4.0                                   \n",
       "5261                                                 NaN                                   \n",
       "2492                                                 5.0                                   \n",
       "4942                                                 3.5                                   \n",
       "2267                                                 NaN                                   "
      ]
     },
     "execution_count": 14,
     "metadata": {},
     "output_type": "execute_result"
    }
   ],
   "source": [
    "ratings = pd.read_excel('Metric-SpreadSheet-Assignment1_.xlsx', sheet_name='ratings')\n",
    "ratings = ratings.set_index(\"Users\")\n",
    "ratings"
   ]
  },
  {
   "cell_type": "code",
   "execution_count": 15,
   "id": "e384b37a",
   "metadata": {},
   "outputs": [
    {
     "data": {
      "text/html": [
       "<div>\n",
       "<style scoped>\n",
       "    .dataframe tbody tr th:only-of-type {\n",
       "        vertical-align: middle;\n",
       "    }\n",
       "\n",
       "    .dataframe tbody tr th {\n",
       "        vertical-align: top;\n",
       "    }\n",
       "\n",
       "    .dataframe thead th {\n",
       "        text-align: right;\n",
       "    }\n",
       "</style>\n",
       "<table border=\"1\" class=\"dataframe\">\n",
       "  <thead>\n",
       "    <tr style=\"text-align: right;\">\n",
       "      <th></th>\n",
       "      <th>11: Star Wars: Episode IV - A New Hope (1977)</th>\n",
       "      <th>12: Finding Nemo (2003)</th>\n",
       "      <th>13: Forrest Gump (1994)</th>\n",
       "      <th>14: American Beauty (1999)</th>\n",
       "      <th>22: Pirates of the Caribbean: The Curse of the Black Pearl (2003)</th>\n",
       "      <th>24: Kill Bill: Vol. 1 (2003)</th>\n",
       "      <th>38: Eternal Sunshine of the Spotless Mind (2004)</th>\n",
       "      <th>63: Twelve Monkeys (a.k.a. 12 Monkeys) (1995)</th>\n",
       "      <th>77: Memento (2000)</th>\n",
       "      <th>85: Raiders of the Lost Ark (Indiana Jones and the Raiders of the Lost Ark) (1981)</th>\n",
       "    </tr>\n",
       "    <tr>\n",
       "      <th>Users</th>\n",
       "      <th></th>\n",
       "      <th></th>\n",
       "      <th></th>\n",
       "      <th></th>\n",
       "      <th></th>\n",
       "      <th></th>\n",
       "      <th></th>\n",
       "      <th></th>\n",
       "      <th></th>\n",
       "      <th></th>\n",
       "    </tr>\n",
       "  </thead>\n",
       "  <tbody>\n",
       "    <tr>\n",
       "      <th>5136</th>\n",
       "      <td>4.1</td>\n",
       "      <td>4.3</td>\n",
       "      <td>4.7</td>\n",
       "      <td>3.7</td>\n",
       "      <td>3.8</td>\n",
       "      <td>4.8</td>\n",
       "      <td>3.2</td>\n",
       "      <td>4.1</td>\n",
       "      <td>NaN</td>\n",
       "      <td>4.4</td>\n",
       "    </tr>\n",
       "    <tr>\n",
       "      <th>918</th>\n",
       "      <td>4.0</td>\n",
       "      <td>2.3</td>\n",
       "      <td>4.6</td>\n",
       "      <td>NaN</td>\n",
       "      <td>2.6</td>\n",
       "      <td>NaN</td>\n",
       "      <td>4.4</td>\n",
       "      <td>NaN</td>\n",
       "      <td>5.0</td>\n",
       "      <td>NaN</td>\n",
       "    </tr>\n",
       "    <tr>\n",
       "      <th>2824</th>\n",
       "      <td>4.7</td>\n",
       "      <td>NaN</td>\n",
       "      <td>4.8</td>\n",
       "      <td>NaN</td>\n",
       "      <td>3.9</td>\n",
       "      <td>4.2</td>\n",
       "      <td>NaN</td>\n",
       "      <td>NaN</td>\n",
       "      <td>4.2</td>\n",
       "      <td>NaN</td>\n",
       "    </tr>\n",
       "    <tr>\n",
       "      <th>860</th>\n",
       "      <td>4.0</td>\n",
       "      <td>3.0</td>\n",
       "      <td>3.8</td>\n",
       "      <td>NaN</td>\n",
       "      <td>4.1</td>\n",
       "      <td>3.6</td>\n",
       "      <td>NaN</td>\n",
       "      <td>2.8</td>\n",
       "      <td>4.1</td>\n",
       "      <td>NaN</td>\n",
       "    </tr>\n",
       "    <tr>\n",
       "      <th>442</th>\n",
       "      <td>3.6</td>\n",
       "      <td>NaN</td>\n",
       "      <td>4.2</td>\n",
       "      <td>3.0</td>\n",
       "      <td>2.2</td>\n",
       "      <td>4.2</td>\n",
       "      <td>2.2</td>\n",
       "      <td>2.0</td>\n",
       "      <td>4.5</td>\n",
       "      <td>5.0</td>\n",
       "    </tr>\n",
       "    <tr>\n",
       "      <th>3556</th>\n",
       "      <td>4.3</td>\n",
       "      <td>4.7</td>\n",
       "      <td>3.7</td>\n",
       "      <td>2.0</td>\n",
       "      <td>4.4</td>\n",
       "      <td>4.1</td>\n",
       "      <td>NaN</td>\n",
       "      <td>NaN</td>\n",
       "      <td>NaN</td>\n",
       "      <td>4.3</td>\n",
       "    </tr>\n",
       "    <tr>\n",
       "      <th>5261</th>\n",
       "      <td>NaN</td>\n",
       "      <td>NaN</td>\n",
       "      <td>4.6</td>\n",
       "      <td>NaN</td>\n",
       "      <td>3.5</td>\n",
       "      <td>1.7</td>\n",
       "      <td>NaN</td>\n",
       "      <td>4.0</td>\n",
       "      <td>4.5</td>\n",
       "      <td>NaN</td>\n",
       "    </tr>\n",
       "    <tr>\n",
       "      <th>2492</th>\n",
       "      <td>4.1</td>\n",
       "      <td>2.7</td>\n",
       "      <td>4.2</td>\n",
       "      <td>4.3</td>\n",
       "      <td>3.3</td>\n",
       "      <td>3.3</td>\n",
       "      <td>NaN</td>\n",
       "      <td>4.0</td>\n",
       "      <td>3.2</td>\n",
       "      <td>4.6</td>\n",
       "    </tr>\n",
       "    <tr>\n",
       "      <th>4942</th>\n",
       "      <td>NaN</td>\n",
       "      <td>2.4</td>\n",
       "      <td>3.3</td>\n",
       "      <td>5.0</td>\n",
       "      <td>4.2</td>\n",
       "      <td>4.6</td>\n",
       "      <td>4.4</td>\n",
       "      <td>NaN</td>\n",
       "      <td>4.2</td>\n",
       "      <td>4.1</td>\n",
       "    </tr>\n",
       "    <tr>\n",
       "      <th>2267</th>\n",
       "      <td>NaN</td>\n",
       "      <td>NaN</td>\n",
       "      <td>3.9</td>\n",
       "      <td>NaN</td>\n",
       "      <td>NaN</td>\n",
       "      <td>4.4</td>\n",
       "      <td>2.6</td>\n",
       "      <td>NaN</td>\n",
       "      <td>2.5</td>\n",
       "      <td>NaN</td>\n",
       "    </tr>\n",
       "  </tbody>\n",
       "</table>\n",
       "</div>"
      ],
      "text/plain": [
       "       11: Star Wars: Episode IV - A New Hope (1977)  12: Finding Nemo (2003)  \\\n",
       "Users                                                                           \n",
       "5136                                             4.1                      4.3   \n",
       "918                                              4.0                      2.3   \n",
       "2824                                             4.7                      NaN   \n",
       "860                                              4.0                      3.0   \n",
       "442                                              3.6                      NaN   \n",
       "3556                                             4.3                      4.7   \n",
       "5261                                             NaN                      NaN   \n",
       "2492                                             4.1                      2.7   \n",
       "4942                                             NaN                      2.4   \n",
       "2267                                             NaN                      NaN   \n",
       "\n",
       "       13: Forrest Gump (1994)  14: American Beauty (1999)  \\\n",
       "Users                                                        \n",
       "5136                       4.7                         3.7   \n",
       "918                        4.6                         NaN   \n",
       "2824                       4.8                         NaN   \n",
       "860                        3.8                         NaN   \n",
       "442                        4.2                         3.0   \n",
       "3556                       3.7                         2.0   \n",
       "5261                       4.6                         NaN   \n",
       "2492                       4.2                         4.3   \n",
       "4942                       3.3                         5.0   \n",
       "2267                       3.9                         NaN   \n",
       "\n",
       "       22: Pirates of the Caribbean: The Curse of the Black Pearl (2003)  \\\n",
       "Users                                                                      \n",
       "5136                                                 3.8                   \n",
       "918                                                  2.6                   \n",
       "2824                                                 3.9                   \n",
       "860                                                  4.1                   \n",
       "442                                                  2.2                   \n",
       "3556                                                 4.4                   \n",
       "5261                                                 3.5                   \n",
       "2492                                                 3.3                   \n",
       "4942                                                 4.2                   \n",
       "2267                                                 NaN                   \n",
       "\n",
       "       24: Kill Bill: Vol. 1 (2003)  \\\n",
       "Users                                 \n",
       "5136                            4.8   \n",
       "918                             NaN   \n",
       "2824                            4.2   \n",
       "860                             3.6   \n",
       "442                             4.2   \n",
       "3556                            4.1   \n",
       "5261                            1.7   \n",
       "2492                            3.3   \n",
       "4942                            4.6   \n",
       "2267                            4.4   \n",
       "\n",
       "       38: Eternal Sunshine of the Spotless Mind (2004)  \\\n",
       "Users                                                     \n",
       "5136                                                3.2   \n",
       "918                                                 4.4   \n",
       "2824                                                NaN   \n",
       "860                                                 NaN   \n",
       "442                                                 2.2   \n",
       "3556                                                NaN   \n",
       "5261                                                NaN   \n",
       "2492                                                NaN   \n",
       "4942                                                4.4   \n",
       "2267                                                2.6   \n",
       "\n",
       "       63: Twelve Monkeys (a.k.a. 12 Monkeys) (1995)  77: Memento (2000)  \\\n",
       "Users                                                                      \n",
       "5136                                             4.1                 NaN   \n",
       "918                                              NaN                 5.0   \n",
       "2824                                             NaN                 4.2   \n",
       "860                                              2.8                 4.1   \n",
       "442                                              2.0                 4.5   \n",
       "3556                                             NaN                 NaN   \n",
       "5261                                             4.0                 4.5   \n",
       "2492                                             4.0                 3.2   \n",
       "4942                                             NaN                 4.2   \n",
       "2267                                             NaN                 2.5   \n",
       "\n",
       "       85: Raiders of the Lost Ark (Indiana Jones and the Raiders of the Lost Ark) (1981)  \n",
       "Users                                                                                      \n",
       "5136                                                 4.4                                   \n",
       "918                                                  NaN                                   \n",
       "2824                                                 NaN                                   \n",
       "860                                                  NaN                                   \n",
       "442                                                  5.0                                   \n",
       "3556                                                 4.3                                   \n",
       "5261                                                 NaN                                   \n",
       "2492                                                 4.6                                   \n",
       "4942                                                 4.1                                   \n",
       "2267                                                 NaN                                   "
      ]
     },
     "execution_count": 15,
     "metadata": {},
     "output_type": "execute_result"
    }
   ],
   "source": [
    "predictions = pd.read_excel('Metric-SpreadSheet-Assignment1_.xlsx', sheet_name='predictions')\n",
    "predictions = predictions.set_index(\"Users\")\n",
    "predictions"
   ]
  },
  {
   "cell_type": "markdown",
   "id": "381b1be1",
   "metadata": {},
   "source": [
    "## 1.  Compute the mean absolute error for each user."
   ]
  },
  {
   "cell_type": "code",
   "execution_count": 87,
   "id": "bbb5a2c4",
   "metadata": {},
   "outputs": [
    {
     "data": {
      "text/plain": [
       "Users\n",
       "2267    0.9000\n",
       "3556    0.8429\n",
       "5261    0.8200\n",
       "918     0.8000\n",
       "860     0.7857\n",
       "4942    0.7625\n",
       "5136    0.7333\n",
       "442     0.6778\n",
       "2492    0.5889\n",
       "2824    0.4000\n",
       "dtype: float64"
      ]
     },
     "execution_count": 87,
     "metadata": {},
     "output_type": "execute_result"
    }
   ],
   "source": [
    "mae_users = round(abs(ratings - predictions).sum(axis=1)/(ratings - predictions).count(axis=1),4)\n",
    "mae_users.sort_values(ascending=False)"
   ]
  },
  {
   "cell_type": "markdown",
   "id": "a40645ca",
   "metadata": {},
   "source": [
    "## 2. Compute the mean absolute error associated with the predictions for each movie. "
   ]
  },
  {
   "cell_type": "code",
   "execution_count": 88,
   "id": "531bfbb7",
   "metadata": {},
   "outputs": [
    {
     "data": {
      "text/plain": [
       "12: Finding Nemo (2003)                                                               1.1667\n",
       "22: Pirates of the Caribbean: The Curse of the Black Pearl (2003)                     1.0889\n",
       "14: American Beauty (1999)                                                            1.0200\n",
       "38: Eternal Sunshine of the Spotless Mind (2004)                                      0.9800\n",
       "77: Memento (2000)                                                                    0.6625\n",
       "24: Kill Bill: Vol. 1 (2003)                                                          0.6444\n",
       "13: Forrest Gump (1994)                                                               0.5000\n",
       "63: Twelve Monkeys (a.k.a. 12 Monkeys) (1995)                                         0.4600\n",
       "11: Star Wars: Episode IV - A New Hope (1977)                                         0.4143\n",
       "85: Raiders of the Lost Ark (Indiana Jones and the Raiders of the Lost Ark) (1981)    0.3800\n",
       "dtype: float64"
      ]
     },
     "execution_count": 88,
     "metadata": {},
     "output_type": "execute_result"
    }
   ],
   "source": [
    "mae_movies = round(abs(ratings - predictions).sum()/(ratings - predictions).count(),4)\n",
    "mae_movies.sort_values(ascending=False)"
   ]
  },
  {
   "cell_type": "markdown",
   "id": "31d93658",
   "metadata": {},
   "source": [
    "## 3.1. The overall MAE, which averages over all predictions"
   ]
  },
  {
   "cell_type": "code",
   "execution_count": 71,
   "id": "c40cc863",
   "metadata": {},
   "outputs": [
    {
     "data": {
      "text/plain": [
       "0.7246"
      ]
     },
     "execution_count": 71,
     "metadata": {},
     "output_type": "execute_result"
    }
   ],
   "source": [
    "s = abs(ratings - predictions).sum(axis=1)\n",
    "c = (ratings - predictions).count(axis=1)\n",
    "\n",
    "round(s.sum()/c.sum(),4)"
   ]
  },
  {
   "cell_type": "markdown",
   "id": "c1637208",
   "metadata": {},
   "source": [
    "## 3.2. The by-user MAE, which averages the MAEs of each user"
   ]
  },
  {
   "cell_type": "code",
   "execution_count": 72,
   "id": "505f29d4",
   "metadata": {},
   "outputs": [
    {
     "data": {
      "text/plain": [
       "0.7311"
      ]
     },
     "execution_count": 72,
     "metadata": {},
     "output_type": "execute_result"
    }
   ],
   "source": [
    "round(mae_users.mean(),4)"
   ]
  },
  {
   "cell_type": "markdown",
   "id": "715e6386",
   "metadata": {},
   "source": [
    "## 3.3. The by-movie MAE, which averages the MAEs of each movie "
   ]
  },
  {
   "cell_type": "code",
   "execution_count": 73,
   "id": "05204a72",
   "metadata": {},
   "outputs": [
    {
     "data": {
      "text/plain": [
       "0.7317"
      ]
     },
     "execution_count": 73,
     "metadata": {},
     "output_type": "execute_result"
    }
   ],
   "source": [
    "round(mae_movies.mean(),4)"
   ]
  },
  {
   "cell_type": "markdown",
   "id": "df7734df",
   "metadata": {},
   "source": [
    "## 4. Compute the MSE and RMSE for each user"
   ]
  },
  {
   "cell_type": "code",
   "execution_count": 58,
   "id": "bec4bb6e",
   "metadata": {},
   "outputs": [],
   "source": [
    "sqr = (ratings - predictions)**2"
   ]
  },
  {
   "cell_type": "code",
   "execution_count": 90,
   "id": "959ce2ab",
   "metadata": {},
   "outputs": [
    {
     "data": {
      "text/plain": [
       "Users\n",
       "442     0.6411\n",
       "860     0.8586\n",
       "918     1.4700\n",
       "2267    0.9950\n",
       "2492    0.4122\n",
       "2824    0.2240\n",
       "3556    1.0757\n",
       "4942    0.6137\n",
       "5136    0.7911\n",
       "5261    1.1700\n",
       "dtype: float64"
      ]
     },
     "execution_count": 90,
     "metadata": {},
     "output_type": "execute_result"
    }
   ],
   "source": [
    "mse_users = sqr.sum(axis=1)/sqr.count(axis=1).sort_values()\n",
    "round(mse_users,4)"
   ]
  },
  {
   "cell_type": "code",
   "execution_count": 93,
   "id": "a22fb884",
   "metadata": {},
   "outputs": [
    {
     "data": {
      "text/plain": [
       "Users\n",
       "918     1.212\n",
       "5261    1.082\n",
       "3556    1.037\n",
       "2267    0.997\n",
       "860     0.927\n",
       "5136    0.889\n",
       "442     0.801\n",
       "4942    0.783\n",
       "2492    0.642\n",
       "2824    0.473\n",
       "dtype: float64"
      ]
     },
     "execution_count": 93,
     "metadata": {},
     "output_type": "execute_result"
    }
   ],
   "source": [
    "rmse_users = mse_users**0.5\n",
    "round(rmse_users.sort_values(ascending=False),3)"
   ]
  },
  {
   "cell_type": "markdown",
   "id": "95b6bdd8",
   "metadata": {},
   "source": [
    "## 5. Compute the overall MSE and RMSE across all predictions"
   ]
  },
  {
   "cell_type": "code",
   "execution_count": 94,
   "id": "a1fcecc6",
   "metadata": {},
   "outputs": [
    {
     "name": "stdout",
     "output_type": "stream",
     "text": [
      "MSE overall: 0.794 , RMSE overall: 0.891\n"
     ]
    }
   ],
   "source": [
    "mse_overall = sqr.sum().sum()/sqr.count().sum()\n",
    "rmse_overall = mse_overall**0.5\n",
    "\n",
    "print(\"MSE overall:\", round(mse_overall,3), \", RMSE overall:\", round(rmse_overall,3))"
   ]
  },
  {
   "cell_type": "markdown",
   "id": "5e262528",
   "metadata": {},
   "source": [
    "## 6. Compute the correlation between ratings and predictions"
   ]
  },
  {
   "cell_type": "code",
   "execution_count": 96,
   "id": "86b1a77f",
   "metadata": {},
   "outputs": [
    {
     "data": {
      "text/plain": [
       "Users\n",
       "5261    0.921\n",
       "442     0.774\n",
       "2267    0.634\n",
       "918     0.459\n",
       "2492    0.414\n",
       "4942    0.348\n",
       "2824    0.348\n",
       "5136    0.170\n",
       "3556   -0.096\n",
       "860    -0.148\n",
       "dtype: float64"
      ]
     },
     "execution_count": 96,
     "metadata": {},
     "output_type": "execute_result"
    }
   ],
   "source": [
    "c = round(ratings.corrwith(predictions, axis = 1).sort_values(ascending=False),3)\n",
    "c"
   ]
  },
  {
   "cell_type": "code",
   "execution_count": 97,
   "id": "b39ecfa1",
   "metadata": {},
   "outputs": [
    {
     "data": {
      "text/plain": [
       "0.382"
      ]
     },
     "execution_count": 97,
     "metadata": {},
     "output_type": "execute_result"
    }
   ],
   "source": [
    "round(c.mean(),3)"
   ]
  },
  {
   "cell_type": "code",
   "execution_count": null,
   "id": "6737df2a",
   "metadata": {},
   "outputs": [],
   "source": []
  }
 ],
 "metadata": {
  "kernelspec": {
   "display_name": "Python 3 (ipykernel)",
   "language": "python",
   "name": "python3"
  },
  "language_info": {
   "codemirror_mode": {
    "name": "ipython",
    "version": 3
   },
   "file_extension": ".py",
   "mimetype": "text/x-python",
   "name": "python",
   "nbconvert_exporter": "python",
   "pygments_lexer": "ipython3",
   "version": "3.9.12"
  }
 },
 "nbformat": 4,
 "nbformat_minor": 5
}
