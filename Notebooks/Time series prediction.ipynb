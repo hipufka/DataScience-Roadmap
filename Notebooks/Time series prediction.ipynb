{
 "cells": [
  {
   "cell_type": "code",
   "execution_count": null,
   "id": "7ac42b10",
   "metadata": {
    "ExecuteTime": {
     "end_time": "2024-01-09T13:15:22.927049Z",
     "start_time": "2024-01-09T13:15:20.189338Z"
    }
   },
   "outputs": [],
   "source": [
    "import configparser\n",
    "import pandas as pd\n",
    "import numpy as np\n",
    "from numpy import array\n",
    "\n",
    "import vertica_python\n",
    "from vertica_python.errors import MissingRelation\n",
    "import verticapy as vp\n",
    "from verticapy import pandas_to_vertica, insert_into, drop\n",
    "\n",
    "import matplotlib.pyplot as plt\n",
    "import seaborn as sns\n",
    "\n",
    "from sklearn.linear_model import LinearRegression\n",
    "from sklearn.metrics import mean_absolute_error, mean_squared_error\n",
    "from statsmodels.graphics.tsaplots import plot_pacf\n",
    "import catboost as ctb\n",
    "from prophet import Prophet\n",
    "from tensorflow.keras.models import Sequential\n",
    "from tensorflow.keras import layers"
   ]
  },
  {
   "cell_type": "markdown",
   "id": "eb0819ab",
   "metadata": {},
   "source": [
    "## Helper functions"
   ]
  },
  {
   "cell_type": "code",
   "execution_count": null,
   "id": "7c10fa32",
   "metadata": {
    "ExecuteTime": {
     "end_time": "2024-01-09T13:15:23.324316Z",
     "start_time": "2024-01-09T13:15:22.930610Z"
    },
    "code_folding": [
     1,
     17
    ]
   },
   "outputs": [],
   "source": [
    "config_path = 'config.ini'\n",
    "def get_VRT_cursor(path=config_path):\n",
    "    config = configparser.ConfigParser()\n",
    "    config.read(path)\n",
    "    \n",
    "    credentials = {\n",
    "        'database': config['VERTICA']['database'],\n",
    "        'user': config['VERTICA']['user'],\n",
    "        'password': config['VERTICA']['password'],\n",
    "        'host': config['VERTICA']['host'],\n",
    "        'port': config['VERTICA']['port']\n",
    "    }\n",
    "    \n",
    "    conn = vertica_python.connect(**credentials)\n",
    "    cursor = conn.cursor()\n",
    "    return cursor, conn\n",
    "\n",
    "def get_df_from_sql(cursor, sql='SELECT now(), version()'):\n",
    "    cursor.execute(sql)\n",
    "    columns = cursor.description\n",
    "    result = cursor.fetchall()\n",
    "    df = pd.DataFrame(result, columns=[tuple[0] for tuple in columns])\n",
    "    return df\n",
    "\n",
    "VRT_cursor, conn = get_VRT_cursor()\n",
    "vp.set_connection(conn)"
   ]
  },
  {
   "cell_type": "code",
   "execution_count": null,
   "id": "6e2d4787",
   "metadata": {
    "ExecuteTime": {
     "end_time": "2024-01-09T13:15:23.343919Z",
     "start_time": "2024-01-09T13:15:23.329204Z"
    },
    "code_folding": []
   },
   "outputs": [],
   "source": [
    "def plot_periodogram(ts, detrend='linear', ax=None):\n",
    "    from scipy.signal import periodogram\n",
    "    fs = 365\n",
    "    freqencies, spectrum = periodogram(\n",
    "        ts,\n",
    "        fs=fs,\n",
    "        detrend=detrend,\n",
    "        window=\"boxcar\",\n",
    "        scaling='spectrum',\n",
    "    )\n",
    "    if ax is None:\n",
    "        _, ax = plt.subplots()\n",
    "    ax.step(freqencies, spectrum, color=\"purple\")\n",
    "    ax.set_xscale(\"log\")\n",
    "    ax.set_xticks([12, 24, 52, 104])\n",
    "    ax.set_xticklabels(\n",
    "        [\n",
    "            \"Monthly (12)\",\n",
    "            \"Semimonthly (24)\",\n",
    "            \"Weekly (52)\",\n",
    "            \"Semiweekly (104)\",\n",
    "        ],\n",
    "        rotation=30,\n",
    "    )\n",
    "    ax.ticklabel_format(axis=\"y\", style=\"sci\", scilimits=(0, 0))\n",
    "    ax.set_ylabel(\"Variance\")\n",
    "    ax.set_title(\"Periodogram\")\n",
    "    return ax"
   ]
  },
  {
   "cell_type": "markdown",
   "id": "6f7a5766",
   "metadata": {},
   "source": [
    "## Get data"
   ]
  },
  {
   "cell_type": "code",
   "execution_count": null,
   "id": "9d7c00f6",
   "metadata": {
    "ExecuteTime": {
     "end_time": "2024-01-09T13:15:23.362846Z",
     "start_time": "2024-01-09T13:15:23.352280Z"
    },
    "code_folding": []
   },
   "outputs": [],
   "source": [
    "sql = \"\"\"\n",
    "select date,\n",
    "     target_var  \n",
    "from table1 \n",
    "\"\"\""
   ]
  },
  {
   "cell_type": "code",
   "execution_count": null,
   "id": "b856459c",
   "metadata": {
    "ExecuteTime": {
     "end_time": "2024-01-09T13:19:07.990947Z",
     "start_time": "2024-01-09T13:15:23.367615Z"
    }
   },
   "outputs": [],
   "source": [
    "df = get_df_from_sql(cursor=VRT_cursor, sql=sql)"
   ]
  },
  {
   "cell_type": "markdown",
   "id": "f39db2fa",
   "metadata": {
    "ExecuteTime": {
     "start_time": "2023-12-28T15:43:29.152Z"
    }
   },
   "source": [
    "## Exploratory data analysis"
   ]
  },
  {
   "cell_type": "markdown",
   "id": "7691a520",
   "metadata": {},
   "source": [
    "### Seasonality"
   ]
  },
  {
   "cell_type": "code",
   "execution_count": null,
   "id": "72427286",
   "metadata": {
    "ExecuteTime": {
     "end_time": "2024-01-08T16:15:03.249777Z",
     "start_time": "2024-01-08T16:15:01.332756Z"
    }
   },
   "outputs": [],
   "source": [
    "p = df[[\"date\", \"target_var\"]].groupby('date').mean()\n",
    "p = p.fillna(p.mean())\n",
    "ax = plot_periodogram(p[\"target_var\"])\n",
    "ax.set_title(\"Peridogram target_var\"))"
   ]
  },
  {
   "cell_type": "code",
   "execution_count": null,
   "id": "dfe8ba51",
   "metadata": {
    "ExecuteTime": {
     "end_time": "2024-01-09T13:28:41.127392Z",
     "start_time": "2024-01-09T13:28:41.108934Z"
    }
   },
   "outputs": [],
   "source": [
    "df['date'] = pd.to_datetime(df['date'], errors='coerce')\n",
    "df['dayofmonth'] = df.date.dt.day\n",
    "df['weekofmonth'] = df['dayofmonth']//7\n",
    "df['dayofweek'] = df['date'].dt.dayofweek\n",
    "df[\"is_weekend\"] = df['date'].dt.dayofweek > 4"
   ]
  },
  {
   "cell_type": "code",
   "execution_count": null,
   "id": "e63756f1",
   "metadata": {
    "ExecuteTime": {
     "end_time": "2024-01-09T13:28:49.478080Z",
     "start_time": "2024-01-09T13:28:48.477484Z"
    }
   },
   "outputs": [],
   "source": [
    "# 0 - Monday, 6 - Sunday\n",
    "ax = df[[\"dayofweek\",\"target_var\"]].groupby(\"dayofweek\").mean(\n",
    "        \"target_var\".plot.bar(rot=0, title =\"Seasonality by days of week\")"
   ]
  },
  {
   "cell_type": "markdown",
   "id": "a47ad223",
   "metadata": {
    "ExecuteTime": {
     "end_time": "2024-01-09T13:21:50.867161Z",
     "start_time": "2024-01-09T13:21:50.861480Z"
    }
   },
   "source": [
    "### Cycles"
   ]
  },
  {
   "cell_type": "code",
   "execution_count": null,
   "id": "00559b62",
   "metadata": {
    "ExecuteTime": {
     "end_time": "2024-01-08T17:03:12.630197Z",
     "start_time": "2024-01-08T17:03:12.598558Z"
    }
   },
   "outputs": [],
   "source": [
    "def lagplot(x, y=None, lag=1, standardize=False, ax=None, **kwargs):\n",
    "    from matplotlib.offsetbox import AnchoredText\n",
    "    x_ = x.shift(lag)\n",
    "    if standardize:\n",
    "        x_ = (x_ - x_.mean()) / x_.std()\n",
    "    if y is not None:\n",
    "        y_ = (y - y.mean()) / y.std() if standardize else y\n",
    "    else:\n",
    "        y_ = x\n",
    "    corr = y_.corr(x_)\n",
    "    if ax is None:\n",
    "        fig, ax = plt.subplots()\n",
    "    scatter_kws = dict(\n",
    "        alpha=0.75,\n",
    "        s=3,\n",
    "    )\n",
    "    line_kws = dict(color='C3', )\n",
    "    ax = sns.regplot(x=x_,\n",
    "                     y=y_,\n",
    "                     scatter_kws=scatter_kws,\n",
    "                     line_kws=line_kws,\n",
    "                     lowess=True,\n",
    "                     ax=ax,\n",
    "                     **kwargs)\n",
    "    at = AnchoredText(\n",
    "        f\"{corr:.2f}\",\n",
    "        prop=dict(size=\"large\"),\n",
    "        frameon=True,\n",
    "        loc=\"upper left\",\n",
    "    )\n",
    "    at.patch.set_boxstyle(\"square, pad=0.0\")\n",
    "    ax.add_artist(at)\n",
    "    ax.set(title=f\"Lag {lag}\", xlabel=x_.name, ylabel=y_.name)\n",
    "    return ax\n",
    "\n",
    "def plot_lags(x, y=None, lags=6, nrows=1, lagplot_kwargs={}, **kwargs):\n",
    "    import math\n",
    "    kwargs.setdefault('nrows', nrows)\n",
    "    kwargs.setdefault('ncols', math.ceil(lags / nrows))\n",
    "    kwargs.setdefault('figsize', (kwargs['ncols'] * 2, nrows * 2 + 0.5))\n",
    "    fig, axs = plt.subplots(sharex=True, sharey=True, squeeze=False, **kwargs)\n",
    "    for ax, k in zip(fig.get_axes(), range(kwargs['nrows'] * kwargs['ncols'])):\n",
    "        if k + 1 <= lags:\n",
    "            ax = lagplot(x, y, lag=k + 1, ax=ax, **lagplot_kwargs)\n",
    "            ax.set_title(f\"Lag {k + 1}\", fontdict=dict(fontsize=14))\n",
    "            ax.set(xlabel=\"\", ylabel=\"\")\n",
    "        else:\n",
    "            ax.axis('off')\n",
    "    plt.setp(axs[-1, :], xlabel=x.name)\n",
    "    plt.setp(axs[:, 0], ylabel=y.name if y is not None else x.name)\n",
    "    fig.tight_layout(w_pad=0.1, h_pad=0.1)\n",
    "    return fig"
   ]
  },
  {
   "cell_type": "code",
   "execution_count": null,
   "id": "4c997072",
   "metadata": {
    "ExecuteTime": {
     "end_time": "2024-01-08T17:09:43.518803Z",
     "start_time": "2024-01-08T17:09:39.723738Z"
    }
   },
   "outputs": [],
   "source": [
    "#plot_lags(df['payout0'], lags=12, nrows=2)\n",
    "plot_pacf(df['target_var'], lags=12)"
   ]
  },
  {
   "cell_type": "markdown",
   "id": "1999255a",
   "metadata": {
    "ExecuteTime": {
     "end_time": "2023-12-29T17:11:00.247750Z",
     "start_time": "2023-12-29T17:11:00.241362Z"
    }
   },
   "source": [
    "## Baseline modelling"
   ]
  },
  {
   "cell_type": "markdown",
   "id": "dbb6525e",
   "metadata": {},
   "source": [
    "### Data preparation"
   ]
  },
  {
   "cell_type": "code",
   "execution_count": null,
   "id": "ca3404bd",
   "metadata": {
    "ExecuteTime": {
     "end_time": "2024-01-09T13:30:03.409235Z",
     "start_time": "2024-01-09T13:30:03.391512Z"
    }
   },
   "outputs": [],
   "source": [
    "df = df.sort_values(\n",
    "    by=['date'], ascending=True)\n",
    "\n",
    "df[\"target_var\"] = df[\"target_var\"].fillna(df[\"target_var\"].mean())"
   ]
  },
  {
   "cell_type": "markdown",
   "id": "94146ffc",
   "metadata": {},
   "source": [
    "#### Define trend as moving average"
   ]
  },
  {
   "cell_type": "code",
   "execution_count": null,
   "id": "f7b31ff9",
   "metadata": {
    "ExecuteTime": {
     "end_time": "2024-01-09T13:30:06.817353Z",
     "start_time": "2024-01-09T13:30:06.796471Z"
    }
   },
   "outputs": [],
   "source": [
    "moving_average = df[[\"target_var\"]].rolling(\n",
    "    window=7,       \n",
    "    center=True,      # puts the average at the center of the window\n",
    "    min_periods=3,  \n",
    ").mean().rename(\n",
    "    columns={\"target_var\": \"target_var_trend\"}\n",
    ")\n",
    "\n",
    "df = pd.concat([df, moving_average], axis=1)"
   ]
  },
  {
   "cell_type": "code",
   "execution_count": null,
   "id": "8c7b0906",
   "metadata": {
    "ExecuteTime": {
     "end_time": "2024-01-09T13:30:24.924730Z",
     "start_time": "2024-01-09T13:30:24.904141Z"
    }
   },
   "outputs": [],
   "source": [
    "def make_lags(df, target, lags):\n",
    "    for i in range(1, lags + 1):\n",
    "        df[target + '_lag_' + str(i)] = df[target].shift(i)\n",
    "        df[target + '_lag_' + str(i)] = df[target + '_lag_' + str(i)].fillna(0)\n",
    "    return df\n",
    "\n",
    "lags = {\"target_var\": 6}\n",
    "\n",
    "for l in lags.keys():\n",
    "    df = make_lags(df, l, lags[l])"
   ]
  },
  {
   "cell_type": "markdown",
   "id": "82cf8004",
   "metadata": {
    "ExecuteTime": {
     "end_time": "2023-12-29T18:02:44.070238Z",
     "start_time": "2023-12-29T18:02:44.064450Z"
    }
   },
   "source": [
    "### Trend"
   ]
  },
  {
   "cell_type": "code",
   "execution_count": null,
   "id": "3447822b",
   "metadata": {
    "ExecuteTime": {
     "start_time": "2024-01-09T14:15:46.072Z"
    }
   },
   "outputs": [],
   "source": [
    "def compare_accuracy(test: pd.DataFrame, \n",
    "                      prediction_label1: str,\n",
    "                      prediction_label2: str):\n",
    "    print(\"MAE \" + prediction_label1 + \" target_var\") + \":\", \n",
    "          round(mean_absolute_error(test[\"target_var_{}\".format(prediction_label1)], \n",
    "                              test[\"payout{}\".format(payout_type)]),6))\n",
    "    print(\"MAE \" + prediction_label2 + \" payout\" + str(payout_type) + \":\", \n",
    "          round(mean_absolute_error(test[\"payout{}_{}\".format(payout_type, prediction_label2)], \n",
    "                              test[\"payout{}\".format(payout_type)]), 6))\n",
    "    print(\"MSE \" + prediction_label1 + \" payout\" + str(payout_type) + \":\", \n",
    "          round(mean_squared_error(test[\"payout{}_{}\".format(payout_type, prediction_label1)], \n",
    "                              test[\"payout{}\".format(payout_type)]), 6))\n",
    "    print(\"MSE \" + prediction_label2 + \" payout\" + str(payout_type) + \":\", \n",
    "          round(mean_squared_error(test[\"payout{}_{}\".format(payout_type, prediction_label2)], \n",
    "                              test[\"payout{}\".format(payout_type)]), 6))\n",
    "    print('*********************************')"
   ]
  },
  {
   "cell_type": "code",
   "execution_count": null,
   "id": "f1c993dd",
   "metadata": {
    "ExecuteTime": {
     "end_time": "2024-01-08T16:22:15.224095Z",
     "start_time": "2024-01-08T16:22:15.204119Z"
    }
   },
   "outputs": [],
   "source": [
    "def plot_trend(df: pd.DataFrame):\n",
    "    fig, axes = plt.subplots(nrows=1, ncols=1, figsize=(25,15),)\n",
    "    df.plot.line(x=\"date\", \n",
    "                 y=\"target_var\", \n",
    "                 color='g', \n",
    "                 #title =\"payout{} predict and fact\".format(payout_type), \n",
    "                 ax = axes, rot=0)\n",
    "    df.plot.line(x=\"date\", \n",
    "                   y=\"target_var_trend\", \n",
    "                       color='b', ax = axes, rot=0)\n",
    "    df.plot.line(x=\"date\", \n",
    "                   y=\"target_var_prod_predict\", \n",
    "                       color='r', ax = axes, rot=0)  \n",
    "    #plt.legend(fontsize = 20)  \n",
    "    axes.legend([\"target_var fact\", \n",
    "                 \"target_var moving average\",                 \n",
    "                 \"target_var prod forecast\"],\n",
    "                 fontsize=20\n",
    "               )\n",
    "    plt.show()"
   ]
  },
  {
   "cell_type": "markdown",
   "id": "e12c0169",
   "metadata": {},
   "source": [
    "## Advanced models"
   ]
  },
  {
   "cell_type": "markdown",
   "id": "c80c97f3",
   "metadata": {},
   "source": [
    "### CatBoost"
   ]
  },
  {
   "cell_type": "code",
   "execution_count": null,
   "id": "06fa2ca0",
   "metadata": {},
   "outputs": [],
   "source": [
    "def train_catboost_regression(train: pd.DataFrame, \n",
    "                            test: pd.DataFrame, \n",
    "                            features: list,\n",
    "                            cat_features: list):\n",
    "    \n",
    "    train_ = train[[\"target_var\", \n",
    "                    \"target_var_trend\"] + features]\n",
    "    test_ = test[[\"target_var\", \n",
    "                    \"target_var_trend\"] + features]\n",
    "    \n",
    "        \n",
    "    train_[\"target_var_detrend\"] = train_[\"target_var\"] - train_[\"target_var_trend\"]\n",
    "    test_[\"target_var_detrend\"] = test_[\"target_var\"] - test_[\"target_var_trend\"]\n",
    "\n",
    "    X_train = train_.drop(['target_var_detrend', \n",
    "                          'target_var_trend', \n",
    "                          'target_var'], axis=1)\n",
    "    y_train = train_[['target_var_detrend']]\n",
    "    X_test = test_.drop(['target_var_detrend', \n",
    "                          'target_var_trend', \n",
    "                          'target_var'], axis=1)\n",
    "    y_test = test_[['target_var_detrend']]\n",
    "    \n",
    "    pool_train = ctb.Pool(X_train, y_train, cat_features=cat_features)\n",
    "    pool_test = ctb.Pool(X_test, cat_features=cat_features)\n",
    "\n",
    "    model = ctb.CatBoostRegressor(\n",
    "                       n_estimators=200,\n",
    "                       loss_function='RMSE',\n",
    "                       learning_rate=0.05,\n",
    "                       depth=3, \n",
    "                       task_type='CPU',\n",
    "                       random_state=1,\n",
    "                       verbose=False)\n",
    "    model.fit(pool_train)\n",
    "    \n",
    "    y_predict = model.predict(pool_test)\n",
    "    test = test.reset_index(drop=True)\n",
    "    test['target_var_catboost'.format(payout_type)] = test['target_var_trend'.format(payout_type)] + y_predict    \n",
    "    return test"
   ]
  },
  {
   "cell_type": "markdown",
   "id": "f1d6db54",
   "metadata": {},
   "source": [
    "### Prophet"
   ]
  },
  {
   "cell_type": "code",
   "execution_count": null,
   "id": "b2b312b1",
   "metadata": {},
   "outputs": [],
   "source": [
    "def train_prophet_regression(train: pd.DataFrame, test: pd.DataFrame):\n",
    "    train[\"target_var_detrend\"] = train[\"target_var\"] - train[\"target_var_trend\"]\n",
    "    test[\"target_var_detrend\"] = test[\"target_var\"] - test[\"target_var_trend\"] \n",
    "    \n",
    "    train_ = train[['target_var_detrend', 'date']].rename(\n",
    "                columns={'date': 'ds', 'target_var_detrend': 'y'})\n",
    "    test['ds'] = test['date']\n",
    "    \n",
    "    model = Prophet(interval_width=0.95)\n",
    "    model.fit(train_)\n",
    "    \n",
    "    y_predict = model.predict(test)\n",
    "    test = test.reset_index(drop=True)\n",
    "    test['target_var_prophet'] = test[\"target_var_trend\"] + y_predict['yhat'] \n",
    "    \n",
    "    return test"
   ]
  },
  {
   "cell_type": "markdown",
   "id": "cd178cb5",
   "metadata": {},
   "source": [
    "### LSTM"
   ]
  },
  {
   "cell_type": "code",
   "execution_count": null,
   "id": "cdf8e145",
   "metadata": {},
   "outputs": [],
   "source": [
    "def train_lstm(train: pd.DataFrame, test: pd.DataFrame):\n",
    "    train[\"target_var_detrend\"] = train[\"target_var\"] - train[\"target_var_trend\"]\n",
    "    test[\"target_var_detrend\"] = test[\"target_var\"] - test[\"target_var_trend\"] \n",
    "    df = pd.concat([train, test], ignore_index=True)\n",
    "    sequence = df[\"target_var_detrend\"].tolist()\n",
    "    n_steps = train.shape[0]\n",
    "    \n",
    "    X, y = list(), list()\n",
    "    for i in range(len(sequence)):\n",
    "        # find the end of this pattern\n",
    "        end_ix = i + n_steps\n",
    "        # check if we are beyond the sequence\n",
    "        if end_ix > len(sequence)-1:\n",
    "            break\n",
    "        # gather input and output parts of the pattern\n",
    "        seq_x, seq_y = sequence[i:end_ix], sequence[end_ix]\n",
    "        X.append(seq_x)\n",
    "        y.append(seq_y)\n",
    "        \n",
    "    X = array(X)\n",
    "    y = array(y)\n",
    "    \n",
    "    n_features = 1    \n",
    "    X = X.reshape((X.shape[0], X.shape[1], n_features))\n",
    "    \n",
    "    model = Sequential()\n",
    "    model.add(layers.LSTM(50, activation='relu', input_shape=(n_steps, n_features)))\n",
    "    model.add(layers.Dense(1))\n",
    "    model.compile(optimizer='adam', loss='mse')    \n",
    "    model.fit(X, y, epochs=1000, verbose=0)\n",
    "    \n",
    "    yhat = model.predict(X, verbose=0)\n",
    "    yhat = yhat.reshape(yhat.shape[0])\n",
    "    \n",
    "    test = test.reset_index(drop=True)\n",
    "    test['target_var_lstm'] = test[\"target_var_trend\"] + yhat \n",
    "    \n",
    "    return test"
   ]
  }
 ],
 "metadata": {
  "celltoolbar": "Tags",
  "hide_input": false,
  "kernelspec": {
   "display_name": "environment_time_series",
   "language": "python",
   "name": "environment_time_series"
  },
  "language_info": {
   "codemirror_mode": {
    "name": "ipython",
    "version": 3
   },
   "file_extension": ".py",
   "mimetype": "text/x-python",
   "name": "python",
   "nbconvert_exporter": "python",
   "pygments_lexer": "ipython3",
   "version": "3.10.12"
  },
  "toc": {
   "base_numbering": 1,
   "nav_menu": {},
   "number_sections": true,
   "sideBar": true,
   "skip_h1_title": false,
   "title_cell": "Table of Contents",
   "title_sidebar": "Contents",
   "toc_cell": false,
   "toc_position": {},
   "toc_section_display": true,
   "toc_window_display": true
  },
  "varInspector": {
   "cols": {
    "lenName": 16,
    "lenType": 16,
    "lenVar": 40
   },
   "kernels_config": {
    "python": {
     "delete_cmd_postfix": "",
     "delete_cmd_prefix": "del ",
     "library": "var_list.py",
     "varRefreshCmd": "print(var_dic_list())"
    },
    "r": {
     "delete_cmd_postfix": ") ",
     "delete_cmd_prefix": "rm(",
     "library": "var_list.r",
     "varRefreshCmd": "cat(var_dic_list()) "
    }
   },
   "types_to_exclude": [
    "module",
    "function",
    "builtin_function_or_method",
    "instance",
    "_Feature"
   ],
   "window_display": false
  }
 },
 "nbformat": 4,
 "nbformat_minor": 5
}
